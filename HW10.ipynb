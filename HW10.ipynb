{
 "cells": [
  {
   "cell_type": "markdown",
   "metadata": {},
   "source": [
    "# Homework 10"
   ]
  },
  {
   "cell_type": "code",
   "execution_count": 1,
   "metadata": {},
   "outputs": [
    {
     "data": {
      "text/plain": [
       "['CVXOPT', 'ECOS', 'GLPK', 'GLPK_MI', 'OSQP', 'SCS']"
      ]
     },
     "execution_count": 1,
     "metadata": {},
     "output_type": "execute_result"
    }
   ],
   "source": [
    "import pandas as pd\n",
    "import numpy as np\n",
    "from scipy import linalg\n",
    "import cvxpy as cp\n",
    "import cvxopt\n",
    "\n",
    "cp.installed_solvers()"
   ]
  },
  {
   "cell_type": "markdown",
   "metadata": {},
   "source": [
    "### Question 1"
   ]
  },
  {
   "cell_type": "markdown",
   "metadata": {},
   "source": [
    "#### Restricted Master Problem\n",
    "\n",
    "$min \\; x_1+x_2+x_3 \\\\\n",
    "s.t. \\;\\; \\begin{bmatrix}10\\\\0\\\\0\\\\\\end{bmatrix}x_1+\\begin{bmatrix}0\\\\7\\\\0\\\\\\end{bmatrix}x_2+\\begin{bmatrix}0\\\\0\\\\5\\\\\\end{bmatrix}x_3 = \\begin{bmatrix}15\\\\30\\\\20\\\\\\end{bmatrix} \\\\\n",
    "\\;\\;\\;\\;\\;\\;\\;x_1,x_2,x_3\\ge0$\n",
    "\n",
    "**Optimal Solution**  \n",
    "$\\hat{x} = [\\frac{3}{2},\\frac{30}{7}, 4]$  \n",
    "\n",
    "**Optimal Basis**  \n",
    "$B = [A_1, A_2, A_3] = \\begin{bmatrix}10&0&0\\\\0&7&0\\\\0&0&5\\\\\\end{bmatrix},\\;\\;$ \n",
    "$c_B = \\begin{bmatrix}1\\\\1\\\\1\\\\\\end{bmatrix}$\n",
    "\n",
    "$B^{-1} = \\begin{bmatrix}\\frac{1}{10}&0&0\\\\0&\\frac{1}{7}&0\\\\0&0&\\frac{1}{5}\\\\\\end{bmatrix}\\;\\;$ \n",
    "\n",
    "\n",
    "$\\hat{y} = c^T_BB^{-1} = \\begin{bmatrix}\\frac{1}{10}\\\\\\frac{1}{7}\\\\\\frac{1}{5}\\\\\\end{bmatrix}$"
   ]
  },
  {
   "cell_type": "markdown",
   "metadata": {},
   "source": [
    "### Question 2"
   ]
  },
  {
   "cell_type": "code",
   "execution_count": 2,
   "metadata": {},
   "outputs": [],
   "source": [
    "# Solving using CVX\n",
    "x1 = cp.Variable(name=\"x1\")\n",
    "x2 = cp.Variable(name=\"x2\")\n",
    "x3 = cp.Variable(name=\"x3\")\n",
    "objective = cp.Minimize(x1+x2+x3)\n",
    "\n",
    "constraints = [10*x1 == 15,\n",
    "               7*x2 == 30,\n",
    "               5*x3 == 20,\n",
    "               x1 >= 0,\n",
    "               x2 >= 0,\n",
    "               x3 >= 0\n",
    "              ]\n",
    "\n",
    "problem = cp.Problem(objective, constraints)"
   ]
  },
  {
   "cell_type": "code",
   "execution_count": 3,
   "metadata": {},
   "outputs": [
    {
     "name": "stdout",
     "output_type": "stream",
     "text": [
      "The optimal value is: 9.785714285714281\n",
      "The optimal solution is: [1.50, 4.29, 4.00]\n",
      "The optimal dual solution is: [0.100, 0.143, 0.200]\n"
     ]
    }
   ],
   "source": [
    "print(\"The optimal value is: \" + str(problem.solve()))\n",
    "print(\"The optimal solution is: [\" + f'{x1.value:.2f}' + \", \" + f'{x2.value:.2f}' + \", \" + f'{x3.value:.2f}' + \"]\" )\n",
    "print(\"The optimal dual solution is: [\" + f'{-constraints[0].dual_value:.3f}' + \", \" + f'{-constraints[1].dual_value:.3f}' + \", \" + f'{-constraints[2].dual_value:.3f}' + \"]\" )"
   ]
  },
  {
   "cell_type": "markdown",
   "metadata": {},
   "source": [
    "**Optimal Basis (same as above)**  \n",
    "$B = [A_1, A_2, A_3] = \\begin{bmatrix}10&0&0\\\\0&7&0\\\\0&0&5\\\\\\end{bmatrix},\\;\\;$ \n",
    "$c_B = \\begin{bmatrix}1\\\\1\\\\1\\\\\\end{bmatrix}$\n",
    "\n",
    "$B^{-1} = \\begin{bmatrix}\\frac{1}{10}&0&0\\\\0&\\frac{1}{7}&0\\\\0&0&\\frac{1}{5}\\\\\\end{bmatrix}\\;\\;$ \n"
   ]
  },
  {
   "cell_type": "markdown",
   "metadata": {},
   "source": [
    "### Question 3"
   ]
  },
  {
   "cell_type": "markdown",
   "metadata": {},
   "source": [
    "**Pricing Problem**\n",
    "\n",
    "$\\hat{Z} = max \\;\\frac{1}{10}a_1+\\frac{1}{7}a_2+\\frac{1}{5}a_3 \\\\\n",
    "s.t. \\;\\; 7a_1+11a_2+16a_3 \\le 80 \\\\\n",
    "\\;\\;\\;\\;\\;\\;\\;a_1, a_2, a_3 \\ge 0, \\; integers$"
   ]
  },
  {
   "cell_type": "markdown",
   "metadata": {},
   "source": [
    "### Question 4"
   ]
  },
  {
   "cell_type": "code",
   "execution_count": 4,
   "metadata": {},
   "outputs": [],
   "source": [
    "a1 = cp.Variable(name=\"a1\", integer = True)\n",
    "a2 = cp.Variable(name=\"a2\", integer = True)\n",
    "a3 = cp.Variable(name=\"a3\", integer = True)\n",
    "objective = cp.Maximize((1/10)*a1+(1/7)*a2+(1/5)*a3)\n",
    "\n",
    "constraints = [7*a1+11*a2+16*a3 <= 80,\n",
    "               a1 >= 0,\n",
    "               a2 >= 0,\n",
    "               a3 >= 0\n",
    "              ]\n",
    "\n",
    "problem = cp.Problem(objective, constraints)"
   ]
  },
  {
   "cell_type": "code",
   "execution_count": 5,
   "metadata": {},
   "outputs": [
    {
     "name": "stdout",
     "output_type": "stream",
     "text": [
      "The optimal value is: 1.1\n",
      "The optimal solution is: [11.0, 0.0, 0.0]\n"
     ]
    }
   ],
   "source": [
    "print(\"The optimal value is: \" + str(problem.solve()))\n",
    "print(\"The optimal solution is: [\" + str(a1.value) + \", \" +str(a2.value) + \", \" + str(a3.value) + \"]\" )"
   ]
  },
  {
   "cell_type": "markdown",
   "metadata": {},
   "source": [
    "Since $\\hat{Z}$ = 1.1, the minimum reduced cost is: $1-\\hat{Z} = 1 - 1.1 = -0.1 \\lt 0$.  \n",
    "This means that the current solution $\\hat{x} = [1, \\frac{30}{7}, 4] $ is **not optimal** and basis column = [11,0,0] is added to the RMP. We don't have an assigned index, so I'll designate $A_4$ = [11,0,0]."
   ]
  },
  {
   "cell_type": "markdown",
   "metadata": {},
   "source": [
    "### Question 5"
   ]
  },
  {
   "cell_type": "markdown",
   "metadata": {},
   "source": [
    "#### Iteration 2: Restricted Master Problem\n",
    "\n",
    "$min \\; x_1+x_2+x_3+x_4 \\\\\n",
    "s.t. \\;\\; \\begin{bmatrix}10\\\\0\\\\0\\\\\\end{bmatrix}x_1+\\begin{bmatrix}0\\\\7\\\\0\\\\\\end{bmatrix}x_2+\\begin{bmatrix}0\\\\0\\\\5\\\\\\end{bmatrix}x_3 +\\begin{bmatrix}11\\\\0\\\\0\\\\\\end{bmatrix}x_4= \\begin{bmatrix}15\\\\30\\\\20\\\\\\end{bmatrix} \\\\\n",
    "\\;\\;\\;\\;\\;\\;\\;x_1,x_2,x_3, x_4\\ge0$\n",
    "\n",
    "**Optimal Solution**  \n",
    "$\\hat{x} = [0, \\frac{30}{7}, 4, \\frac{15}{11}]$  "
   ]
  },
  {
   "cell_type": "code",
   "execution_count": 6,
   "metadata": {},
   "outputs": [],
   "source": [
    "# Solving using CVX\n",
    "x1 = cp.Variable(name=\"x1\")\n",
    "x2 = cp.Variable(name=\"x2\")\n",
    "x3 = cp.Variable(name=\"x3\")\n",
    "x4 = cp.Variable(name=\"x4\")\n",
    "objective = cp.Minimize(x1+x2+x3+x4)\n",
    "\n",
    "constraints = [10*x1 + 11*x4 == 15,\n",
    "               7*x2 == 30,\n",
    "               5*x3 == 20,\n",
    "               x1 >= 0,\n",
    "               x2 >= 0,\n",
    "               x3 >= 0,\n",
    "               x4 >= 0\n",
    "              ]\n",
    "\n",
    "problem = cp.Problem(objective, constraints)"
   ]
  },
  {
   "cell_type": "code",
   "execution_count": 7,
   "metadata": {},
   "outputs": [
    {
     "name": "stdout",
     "output_type": "stream",
     "text": [
      "The optimal value is: 9.649350650920342\n",
      "The optimal solution is: [0.00, 4.29, 4.00, 1.36]\n"
     ]
    }
   ],
   "source": [
    "print(\"The optimal value is: \" + str(problem.solve()))\n",
    "print(\"The optimal solution is: [\" + f'{x1.value:.2f}' + \", \" + f'{x2.value:.2f}' + \", \" + f'{x3.value:.2f}' +\", \" + f'{x4.value:.2f}' \"]\" )"
   ]
  },
  {
   "cell_type": "markdown",
   "metadata": {},
   "source": [
    "**Optimal Basis**  \n",
    "$B = [A_2,A_3,A_4] = \\begin{bmatrix}0&0&11\\\\7&0&0\\\\0&5&0\\\\\\end{bmatrix},\\;\\;$ \n",
    "$c_B = \\begin{bmatrix}1\\\\1\\\\1\\\\\\end{bmatrix}$\n",
    "\n",
    "$B^{-1} = \\begin{bmatrix}0&\\frac{1}{7}&0\\\\0&0&\\frac{1}{5}\\\\\\frac{1}{11}&0&0\\\\\\end{bmatrix}\\;\\;$ \n",
    "\n",
    "\n",
    "$\\hat{y} = c^T_BB^{-1} = \\begin{bmatrix}\\frac{1}{11}\\\\\\frac{1}{7}\\\\\\frac{1}{5}\\\\\\end{bmatrix}$"
   ]
  },
  {
   "cell_type": "code",
   "execution_count": 8,
   "metadata": {},
   "outputs": [
    {
     "data": {
      "text/plain": [
       "array([[-0.        ,  0.14285714,  0.        ],\n",
       "       [-0.        ,  0.        ,  0.2       ],\n",
       "       [ 0.09090909,  0.        ,  0.        ]])"
      ]
     },
     "execution_count": 8,
     "metadata": {},
     "output_type": "execute_result"
    }
   ],
   "source": [
    "B = np.array([[0,0,11], [7,0,0], [0,5,0]])\n",
    "c = np.array([[1],[1], [1]])\n",
    "B_inv = linalg.inv(B)\n",
    "B_inv"
   ]
  },
  {
   "cell_type": "code",
   "execution_count": 9,
   "metadata": {},
   "outputs": [
    {
     "data": {
      "text/plain": [
       "array([[0.09090909, 0.14285714, 0.2       ]])"
      ]
     },
     "execution_count": 9,
     "metadata": {},
     "output_type": "execute_result"
    }
   ],
   "source": [
    "c.T@B_inv"
   ]
  },
  {
   "cell_type": "markdown",
   "metadata": {},
   "source": [
    "**Pricing Problem**\n",
    "\n",
    "$\\hat{Z} = max \\;\\frac{1}{11}a_1+\\frac{1}{7}a_2+\\frac{1}{5}a_3 \\\\\n",
    "s.t. \\;\\; 7a_1+11a_2+16a_3 \\le 80 \\\\\n",
    "\\;\\;\\;\\;\\;\\;\\;a_1, a_2, a_3 \\ge 0, \\; integers$"
   ]
  },
  {
   "cell_type": "code",
   "execution_count": 10,
   "metadata": {},
   "outputs": [
    {
     "name": "stdout",
     "output_type": "stream",
     "text": [
      "The optimal value is: 1.0389610389610389\n",
      "The optimal solution is: [2.0, 6.0, 0.0]\n"
     ]
    }
   ],
   "source": [
    "a1 = cp.Variable(name=\"a1\", integer = True)\n",
    "a2 = cp.Variable(name=\"a2\", integer = True)\n",
    "a3 = cp.Variable(name=\"a3\", integer = True)\n",
    "objective = cp.Maximize((1/11)*a1+(1/7)*a2+(1/5)*a3)\n",
    "\n",
    "constraints = [7*a1+11*a2+16*a3 <= 80,\n",
    "               a1 >= 0,\n",
    "               a2 >= 0,\n",
    "               a3 >= 0\n",
    "              ]\n",
    "\n",
    "problem = cp.Problem(objective, constraints)\n",
    "\n",
    "print(\"The optimal value is: \" + str(problem.solve()))\n",
    "print(\"The optimal solution is: [\" + str(a1.value) + \", \" +str(a2.value) + \", \" + str(a3.value) + \"]\" )"
   ]
  },
  {
   "cell_type": "markdown",
   "metadata": {},
   "source": [
    "Since $\\hat{Z}$ = 1.04, the minimum reduced cost is: $1-\\hat{Z} = 1 - 1.04 = -0.04 \\lt 0$.  \n",
    "This means that the current solution $\\hat{x} = [0, \\frac{30}{7}, 4, \\frac{15}{11}] $ is **not optimal** and basis column = [2,6,0] is added to the RMP. We don't have an assigned index, so I'll designate $A_5$ = [2,6,0]."
   ]
  },
  {
   "cell_type": "markdown",
   "metadata": {},
   "source": [
    "#### Iteration 3: Restricted Master Problem\n",
    "\n",
    "$min \\; x_1+x_2+x_3+x_4+x_5 \\\\\n",
    "s.t. \\;\\; \\begin{bmatrix}10\\\\0\\\\0\\\\\\end{bmatrix}x_1+\\begin{bmatrix}0\\\\7\\\\0\\\\\\end{bmatrix}x_2+\\begin{bmatrix}0\\\\0\\\\5\\\\\\end{bmatrix}x_3 +\\begin{bmatrix}11\\\\0\\\\0\\\\\\end{bmatrix}x_4+\\begin{bmatrix}2\\\\6\\\\0\\\\\\end{bmatrix}x_5= \\begin{bmatrix}15\\\\30\\\\20\\\\\\end{bmatrix} \\\\\n",
    "\\;\\;\\;\\;\\;\\;\\;x_1,x_2,x_3, x_4,x_5\\ge0$\n",
    "\n",
    "**Optimal Solution**  \n",
    "$\\hat{x} = [0,  0,  4, \\frac{5}{11}, 5] $  "
   ]
  },
  {
   "cell_type": "code",
   "execution_count": 11,
   "metadata": {},
   "outputs": [],
   "source": [
    "# Solving using CVX\n",
    "x1 = cp.Variable(name=\"x1\")\n",
    "x2 = cp.Variable(name=\"x2\")\n",
    "x3 = cp.Variable(name=\"x3\")\n",
    "x4 = cp.Variable(name=\"x4\")\n",
    "x5 = cp.Variable(name=\"x5\")\n",
    "objective = cp.Minimize(x1+x2+x3+x4+x5)\n",
    "\n",
    "constraints = [10*x1 + 11*x4 + 2*x5 == 15,\n",
    "               7*x2 + 6*x5 == 30,\n",
    "               5*x3 == 20,\n",
    "               x1 >= 0,\n",
    "               x2 >= 0,\n",
    "               x3 >= 0,\n",
    "               x4 >= 0,\n",
    "               x5 >= 0\n",
    "              ]\n",
    "\n",
    "problem = cp.Problem(objective, constraints)"
   ]
  },
  {
   "cell_type": "code",
   "execution_count": 12,
   "metadata": {},
   "outputs": [
    {
     "name": "stdout",
     "output_type": "stream",
     "text": [
      "The optimal value is: 9.454545477745505\n",
      "The optimal solution is: [0.00, 0.00, 4.00, 0.45, 5.00]\n"
     ]
    }
   ],
   "source": [
    "print(\"The optimal value is: \" + str(problem.solve()))\n",
    "print(\"The optimal solution is: [\" + f'{x1.value:.2f}' + \", \" + f'{x2.value:.2f}' + \", \" + f'{x3.value:.2f}' +\", \" + f'{x4.value:.2f}'+\", \" + f'{x5.value:.2f}' \"]\" )"
   ]
  },
  {
   "cell_type": "markdown",
   "metadata": {},
   "source": [
    "**Optimal Basis**  \n",
    "$B = [A_3, A_4,A_5] = \\begin{bmatrix}0&11&2\\\\0&0&6\\\\5&0&0\\\\\\end{bmatrix},\\;\\;$ \n",
    "$c_B = \\begin{bmatrix}1\\\\1\\\\1\\\\\\end{bmatrix}$\n",
    "\n",
    "$B^{-1} = \\begin{bmatrix}0&0&\\frac{1}{5}\\\\\\frac{1}{11}&-\\frac{1}{33}&0\\\\0&\\frac{1}{6}&0\\\\\\end{bmatrix}\\;\\;$ \n",
    "\n",
    "\n",
    "$\\hat{y} = c^T_BB^{-1} = \\begin{bmatrix}\\frac{1}{11}\\\\\\frac{3}{22}\\\\\\frac{1}{5}\\\\\\end{bmatrix}$"
   ]
  },
  {
   "cell_type": "code",
   "execution_count": 13,
   "metadata": {},
   "outputs": [
    {
     "data": {
      "text/plain": [
       "array([[ 0.        , -0.        ,  0.2       ],\n",
       "       [ 0.09090909, -0.03030303,  0.        ],\n",
       "       [ 0.        ,  0.16666667,  0.        ]])"
      ]
     },
     "execution_count": 13,
     "metadata": {},
     "output_type": "execute_result"
    }
   ],
   "source": [
    "B = np.array([[0,11,2], [0,0,6], [5,0,0]])\n",
    "B_inv = linalg.inv(B)\n",
    "B_inv"
   ]
  },
  {
   "cell_type": "code",
   "execution_count": 14,
   "metadata": {},
   "outputs": [
    {
     "data": {
      "text/plain": [
       "array([[0.09090909, 0.13636364, 0.2       ]])"
      ]
     },
     "execution_count": 14,
     "metadata": {},
     "output_type": "execute_result"
    }
   ],
   "source": [
    "c.T@B_inv"
   ]
  },
  {
   "cell_type": "markdown",
   "metadata": {},
   "source": [
    "**Pricing Problem**\n",
    "\n",
    "$\\hat{Z} = max \\;\\frac{1}{11}a_4+\\frac{3}{22}a_2+\\frac{1}{5}a_3 \\\\\n",
    "s.t. \\;\\; 7a_1+11a_2+16a_3 \\le 80 \\\\\n",
    "\\;\\;\\;\\;\\;\\;\\;a_1, a_2, a_3 \\ge 0, \\; integers$"
   ]
  },
  {
   "cell_type": "code",
   "execution_count": 15,
   "metadata": {},
   "outputs": [
    {
     "name": "stdout",
     "output_type": "stream",
     "text": [
      "The optimal value is: 1.0181818181818183\n",
      "The optimal solution is: [9.0, 0.0, 1.0]\n"
     ]
    }
   ],
   "source": [
    "a1 = cp.Variable(name=\"a1\", integer = True)\n",
    "a2 = cp.Variable(name=\"a2\", integer = True)\n",
    "a3 = cp.Variable(name=\"a3\", integer = True)\n",
    "objective = cp.Maximize((1/11)*a1+(3/22)*a2+(1/5)*a3)\n",
    "\n",
    "constraints = [7*a1+11*a2+16*a3 <= 80,\n",
    "               a1 >= 0,\n",
    "               a2 >= 0,\n",
    "               a3 >= 0\n",
    "              ]\n",
    "\n",
    "problem = cp.Problem(objective, constraints)\n",
    "\n",
    "print(\"The optimal value is: \" + str(problem.solve()))\n",
    "print(\"The optimal solution is: [\" + str(a1.value) + \", \" +str(a2.value) + \", \" + str(a3.value) + \"]\" )"
   ]
  },
  {
   "cell_type": "markdown",
   "metadata": {},
   "source": [
    "Since $\\hat{Z}$ = 1.02, the minimum reduced cost is: $1-\\hat{Z} = 1 - 1.02 = -0.02 \\lt 0$.  \n",
    "This means that the current solution $\\hat{x} = [0, 0, 4, \\frac{5}{11},5] $ is **not optimal** and basis column = [9,0,1] is added to the RMP. We don't have an assigned index, so I'll designate $A_6$ = [9,0,1]."
   ]
  },
  {
   "cell_type": "markdown",
   "metadata": {},
   "source": [
    "#### Iteration 4: Restricted Master Problem\n",
    "\n",
    "$min \\; x_1+x_2+x_3+x_4+x_5+x_6 \\\\\n",
    "s.t. \\;\\; \\begin{bmatrix}10\\\\0\\\\0\\\\\\end{bmatrix}x_1+\\begin{bmatrix}0\\\\7\\\\0\\\\\\end{bmatrix}x_2+\\begin{bmatrix}0\\\\0\\\\5\\\\\\end{bmatrix}x_3 +\\begin{bmatrix}11\\\\0\\\\0\\\\\\end{bmatrix}x_4+\\begin{bmatrix}2\\\\6\\\\0\\\\\\end{bmatrix}x_5+\\begin{bmatrix}9\\\\0\\\\1\\\\\\end{bmatrix}x_6= \\begin{bmatrix}15\\\\30\\\\20\\\\\\end{bmatrix} \\\\\n",
    "\\;\\;\\;\\;\\;\\;\\;x_1,x_2,x_3, x_4,x_5, x_6\\ge0$\n",
    "\n",
    "**Optimal Solution**  \n",
    "$\\hat{x} = [0, 0, \\frac{35}{9}, 0, 5,\\frac{5}{9}] $  "
   ]
  },
  {
   "cell_type": "code",
   "execution_count": 16,
   "metadata": {},
   "outputs": [],
   "source": [
    "# Solving using CVX\n",
    "x1 = cp.Variable(name=\"x1\")\n",
    "x2 = cp.Variable(name=\"x2\")\n",
    "x3 = cp.Variable(name=\"x3\")\n",
    "x4 = cp.Variable(name=\"x4\")\n",
    "x5 = cp.Variable(name=\"x5\")\n",
    "x6 = cp.Variable(name=\"x6\")\n",
    "objective = cp.Minimize(x1+x2+x3+x4+x5+x6)\n",
    "\n",
    "constraints = [10*x1 + 11*x4 + 2*x5 + 9*x6 == 15,\n",
    "               7*x2 + 6*x5 == 30,\n",
    "               5*x3 + x6 == 20,\n",
    "               x1 >= 0,\n",
    "               x2 >= 0,\n",
    "               x3 >= 0,\n",
    "               x4 >= 0,\n",
    "               x5 >= 0,\n",
    "               x6 >= 0\n",
    "              ]\n",
    "\n",
    "problem = cp.Problem(objective, constraints)"
   ]
  },
  {
   "cell_type": "code",
   "execution_count": 17,
   "metadata": {},
   "outputs": [
    {
     "name": "stdout",
     "output_type": "stream",
     "text": [
      "The optimal value is: 9.444444446310545\n",
      "The optimal solution is: [0.00, 0.00, 3.89, 0.00, 5.00, 0.56]\n"
     ]
    }
   ],
   "source": [
    "print(\"The optimal value is: \" + str(problem.solve()))\n",
    "print(\"The optimal solution is: [\" + f'{x1.value:.2f}' + \", \" + f'{x2.value:.2f}' + \", \" + f'{x3.value:.2f}' +\", \" + f'{x4.value:.2f}'+\", \" + f'{x5.value:.2f}'+\", \" + f'{x6.value:.2f}' \"]\" )"
   ]
  },
  {
   "cell_type": "markdown",
   "metadata": {},
   "source": [
    "**Optimal Basis**  \n",
    "$B = [A_3, A_5,A_6] = \\begin{bmatrix}0&2&9\\\\0&6&0\\\\5&0&1\\\\\\end{bmatrix},\\;\\;$ \n",
    "$c_B = \\begin{bmatrix}1\\\\1\\\\1\\\\\\end{bmatrix}$\n",
    "\n",
    "$B^{-1} = \\begin{bmatrix}-\\frac{1}{45}&\\frac{1}{135}&\\frac{1}{5}\\\\0&\\frac{1}{6}&0\\\\\\frac{1}{9}&-\\frac{1}{27}&0\\\\\\end{bmatrix}\\;\\;$ \n",
    "\n",
    "\n",
    "$\\hat{y} = c^T_BB^{-1} = \\begin{bmatrix}\\frac{4}{45}\\\\\\frac{37}{270}\\\\\\frac{1}{5}\\\\\\end{bmatrix}$"
   ]
  },
  {
   "cell_type": "code",
   "execution_count": 18,
   "metadata": {},
   "outputs": [
    {
     "data": {
      "text/plain": [
       "array([[-0.02222222,  0.00740741,  0.2       ],\n",
       "       [-0.        ,  0.16666667,  0.        ],\n",
       "       [ 0.11111111, -0.03703704,  0.        ]])"
      ]
     },
     "execution_count": 18,
     "metadata": {},
     "output_type": "execute_result"
    }
   ],
   "source": [
    "B = np.array([[0,2,9], [0,6,0], [5,0,1]])\n",
    "B_inv = linalg.inv(B)\n",
    "B_inv"
   ]
  },
  {
   "cell_type": "code",
   "execution_count": 19,
   "metadata": {},
   "outputs": [
    {
     "data": {
      "text/plain": [
       "array([[0.08888889, 0.13703704, 0.2       ]])"
      ]
     },
     "execution_count": 19,
     "metadata": {},
     "output_type": "execute_result"
    }
   ],
   "source": [
    "c.T@B_inv"
   ]
  },
  {
   "cell_type": "markdown",
   "metadata": {},
   "source": [
    "**Pricing Problem**\n",
    "\n",
    "$\\hat{Z} = max \\;\\frac{4}{45}a_1+\\frac{37}{270}a_2+\\frac{1}{5}a_3 \\\\\n",
    "s.t. \\;\\; 7a_1+11a_2+16a_3 \\le 80 \\\\\n",
    "\\;\\;\\;\\;\\;\\;\\;a_1, a_2, a_3 \\ge 0, \\; integers$"
   ]
  },
  {
   "cell_type": "code",
   "execution_count": 20,
   "metadata": {},
   "outputs": [
    {
     "name": "stdout",
     "output_type": "stream",
     "text": [
      "The optimal value is: 1.0074074074074075\n",
      "The optimal solution is: [6.0, 2.0, 1.0]\n"
     ]
    }
   ],
   "source": [
    "a1 = cp.Variable(name=\"a1\", integer = True)\n",
    "a2 = cp.Variable(name=\"a2\", integer = True)\n",
    "a3 = cp.Variable(name=\"a3\", integer = True)\n",
    "objective = cp.Maximize((4/45)*a1+(37/270)*a2+(1/5)*a3)\n",
    "\n",
    "constraints = [7*a1+11*a2+16*a3 <= 80,\n",
    "               a1 >= 0,\n",
    "               a2 >= 0,\n",
    "               a3 >= 0\n",
    "              ]\n",
    "\n",
    "problem = cp.Problem(objective, constraints)\n",
    "\n",
    "print(\"The optimal value is: \" + str(problem.solve()))\n",
    "print(\"The optimal solution is: [\" + str(a1.value) + \", \" +str(a2.value) + \", \" + str(a3.value) + \"]\" )"
   ]
  },
  {
   "cell_type": "markdown",
   "metadata": {},
   "source": [
    "Since $\\hat{Z}$ = 1.01, the minimum reduced cost is: $1-\\hat{Z} = 1 - 1.01 = -0.01 \\lt 0$.  \n",
    "This means that the current solution $\\hat{x} = [0, 0, \\frac{35}{9}, 0,5,\\frac{5}{9}] $ is **not optimal** and basis column = [6,2,1] is added to the RMP. We don't have an assigned index, so I'll designate $A_7$ = [6,2,1]."
   ]
  },
  {
   "cell_type": "markdown",
   "metadata": {},
   "source": [
    "#### Iteration 5: Restricted Master Problem\n",
    "\n",
    "$min \\; x_1+x_2+x_3+x_4+x_5+x_6+x_7 \\\\\n",
    "s.t. \\;\\; \\begin{bmatrix}10\\\\0\\\\0\\\\\\end{bmatrix}x_1+\\begin{bmatrix}0\\\\7\\\\0\\\\\\end{bmatrix}x_2+\\begin{bmatrix}0\\\\0\\\\5\\\\\\end{bmatrix}x_3 +\\begin{bmatrix}11\\\\0\\\\0\\\\\\end{bmatrix}x_4+\\begin{bmatrix}2\\\\6\\\\0\\\\\\end{bmatrix}x_5+\\begin{bmatrix}9\\\\0\\\\1\\\\\\end{bmatrix}x_6+\\begin{bmatrix}6\\\\2\\\\1\\\\\\end{bmatrix}x_7= \\begin{bmatrix}15\\\\30\\\\20\\\\\\end{bmatrix} \\\\\n",
    "\\;\\;\\;\\;\\;\\;\\;x_1,x_2,x_3, x_4,x_5, x_6,x_7\\ge0$\n",
    "\n",
    "**Optimal Solution**  \n",
    "$\\hat{x} = [0,0,\\frac{61}{16},0,\\frac{75}{16}, 0, \\frac{15}{16} ] $  "
   ]
  },
  {
   "cell_type": "code",
   "execution_count": 21,
   "metadata": {},
   "outputs": [],
   "source": [
    "# Solving using CVX\n",
    "x1 = cp.Variable(name=\"x1\")\n",
    "x2 = cp.Variable(name=\"x2\")\n",
    "x3 = cp.Variable(name=\"x3\")\n",
    "x4 = cp.Variable(name=\"x4\")\n",
    "x5 = cp.Variable(name=\"x5\")\n",
    "x6 = cp.Variable(name=\"x6\")\n",
    "x7 = cp.Variable(name=\"x7\")\n",
    "objective = cp.Minimize(x1+x2+x3+x4+x5+x6+x7)\n",
    "\n",
    "constraints = [10*x1 + 11*x4 + 2*x5 + 9*x6 + 6*x7 == 15,\n",
    "               7*x2 + 6*x5 +2*x7 == 30,\n",
    "               5*x3 + x6 + x7 == 20,\n",
    "               x1 >= 0,\n",
    "               x2 >= 0,\n",
    "               x3 >= 0,\n",
    "               x4 >= 0,\n",
    "               x5 >= 0,\n",
    "               x6 >= 0,\n",
    "               x7 >= 0\n",
    "              ]\n",
    "\n",
    "problem = cp.Problem(objective, constraints)"
   ]
  },
  {
   "cell_type": "code",
   "execution_count": 22,
   "metadata": {},
   "outputs": [
    {
     "name": "stdout",
     "output_type": "stream",
     "text": [
      "The optimal value is: 9.437500001422672\n",
      "The optimal solution is: [0.00, 0.00, 3.81, 0.00, 4.69, 0.00, 0.94]\n"
     ]
    }
   ],
   "source": [
    "print(\"The optimal value is: \" + str(problem.solve()))\n",
    "print(\"The optimal solution is: [\" + f'{x1.value:.2f}' + \", \" + f'{x2.value:.2f}' + \", \" + f'{x3.value:.2f}' +\", \" + f'{x4.value:.2f}'+\", \" + f'{x5.value:.2f}'+\", \" + f'{x6.value:.2f}'+\", \" + f'{x7.value:.2f}' \"]\" )"
   ]
  },
  {
   "cell_type": "markdown",
   "metadata": {},
   "source": [
    "**Optimal Basis**  \n",
    "$B = [A_3, A_5,A_7] = \\begin{bmatrix}0&2&6\\\\0&6&2\\\\5&0&1\\\\\\end{bmatrix},\\;\\;$ \n",
    "$c_B = \\begin{bmatrix}1\\\\1\\\\1\\\\\\end{bmatrix}$\n",
    "\n",
    "$B^{-1} = \\begin{bmatrix} -\\frac{3}{80}&\\frac{1}{80}&\\frac{1}{5} \\\\ \n",
    "                            -\\frac{1}{16}&\\frac{3}{16}&0 \\\\ \n",
    "                            \\frac{3}{16}&-\\frac{1}{16}&0 \\\\\n",
    "              \\end{bmatrix}\\;\\;$ \n",
    "\n",
    "\n",
    "$\\hat{y} = c^T_BB^{-1} = \\begin{bmatrix}\\frac{7}{80}\\\\\\frac{11}{80}\\\\\\frac{1}{5}\\\\\\end{bmatrix}$"
   ]
  },
  {
   "cell_type": "code",
   "execution_count": 23,
   "metadata": {},
   "outputs": [
    {
     "data": {
      "text/plain": [
       "array([[-0.0375,  0.0125,  0.2   ],\n",
       "       [-0.0625,  0.1875,  0.    ],\n",
       "       [ 0.1875, -0.0625,  0.    ]])"
      ]
     },
     "execution_count": 23,
     "metadata": {},
     "output_type": "execute_result"
    }
   ],
   "source": [
    "B = np.array([[0,2,6], [0,6,2], [5,0,1]])\n",
    "B_inv = linalg.inv(B)\n",
    "B_inv"
   ]
  },
  {
   "cell_type": "code",
   "execution_count": 24,
   "metadata": {},
   "outputs": [
    {
     "data": {
      "text/plain": [
       "array([[0.0875, 0.1375, 0.2   ]])"
      ]
     },
     "execution_count": 24,
     "metadata": {},
     "output_type": "execute_result"
    }
   ],
   "source": [
    "c.T@B_inv"
   ]
  },
  {
   "cell_type": "markdown",
   "metadata": {},
   "source": [
    "**Knapsack Problem**\n",
    "\n",
    "$\\hat{Z} = max \\;\\frac{7}{80}a_1+\\frac{11}{80}a_2+\\frac{1}{5}a_3 \\\\\n",
    "s.t. \\;\\; 7a_1+11a_2+16a_3 \\le 80 \\\\\n",
    "\\;\\;\\;\\;\\;\\;\\;a_1, a_2, a_3 \\ge 0, \\; integers$"
   ]
  },
  {
   "cell_type": "code",
   "execution_count": 25,
   "metadata": {},
   "outputs": [
    {
     "name": "stdout",
     "output_type": "stream",
     "text": [
      "The optimal value is: 1.0\n",
      "The optimal solution is: [0.0, 0.0, 5.0]\n"
     ]
    }
   ],
   "source": [
    "a1 = cp.Variable(name=\"a1\", integer = True)\n",
    "a2 = cp.Variable(name=\"a2\", integer = True)\n",
    "a3 = cp.Variable(name=\"a3\", integer = True)\n",
    "objective = cp.Maximize((7/80)*a1+(11/80)*a2+(1/5)*a3)\n",
    "\n",
    "constraints = [7*a1+11*a2+16*a3 <= 80,\n",
    "               a1 >= 0,\n",
    "               a2 >= 0,\n",
    "               a3 >= 0\n",
    "              ]\n",
    "\n",
    "problem = cp.Problem(objective, constraints)\n",
    "\n",
    "print(\"The optimal value is: \" + str(problem.solve()))\n",
    "print(\"The optimal solution is: [\" + str(a1.value) + \", \" +str(a2.value) + \", \" + str(a3.value) + \"]\" )"
   ]
  },
  {
   "cell_type": "markdown",
   "metadata": {},
   "source": [
    "Since $\\hat{Z}$ = 1.0, the minimum reduced cost is: $1-\\hat{Z} = 1 - 1.0 = 0 \\lt 0$.  \n",
    "This means that the current solution $\\hat{x} = [0,0,\\frac{61}{16},0,\\frac{75}{16}, 0, \\frac{15}{16} ] $  is **indeed optimal.**"
   ]
  },
  {
   "cell_type": "markdown",
   "metadata": {},
   "source": [
    "### Question 6"
   ]
  },
  {
   "cell_type": "markdown",
   "metadata": {},
   "source": [
    "The final optimal solution is $\\hat{x} = [0,0,\\frac{61}{16},0,\\frac{75}{16}, 0, \\frac{15}{16} ] $  \n",
    "The optimal basis is $B = [A_3, A_5,A_7] = \\begin{bmatrix}0&2&6\\\\0&6&2\\\\5&0&1\\\\\\end{bmatrix}\\;\\;$   \n",
    "The optimal objective value is 9.44."
   ]
  }
 ],
 "metadata": {
  "kernelspec": {
   "display_name": "Python 3",
   "language": "python",
   "name": "python3"
  },
  "language_info": {
   "codemirror_mode": {
    "name": "ipython",
    "version": 3
   },
   "file_extension": ".py",
   "mimetype": "text/x-python",
   "name": "python",
   "nbconvert_exporter": "python",
   "pygments_lexer": "ipython3",
   "version": "3.8.5"
  }
 },
 "nbformat": 4,
 "nbformat_minor": 5
}
