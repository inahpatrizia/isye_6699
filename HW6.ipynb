{
 "cells": [
  {
   "cell_type": "code",
   "execution_count": 2,
   "metadata": {},
   "outputs": [],
   "source": [
    "import cvxpy as cp"
   ]
  },
  {
   "cell_type": "markdown",
   "metadata": {},
   "source": [
    "# Question 1"
   ]
  },
  {
   "cell_type": "markdown",
   "metadata": {},
   "source": [
    "$Let \\;  x_A = number\\;of\\;part\\;A\\;units\\;produced \\\\\n",
    "\\;\\;\\;\\;\\;\\;x_B = number\\;of\\;part\\;B\\;units\\;produced\\\\\n",
    "$\n",
    "\n",
    "Objective Function:\n",
    "\n",
    "$ min \\; \\lvert total\\;run\\;time\\;of\\;drill\\;press - total\\;run\\;time\\;of\\;milling\\;machine \\rvert \\\\\n",
    "= \\lvert (3x_A + 5x_B) - (4x_A + 3x_B) \\rvert \\\\\n",
    "= \\lvert 2x_B - x_A \\rvert$\n",
    "\n",
    "$ Let \\; z = 2x_B - x_A$\n",
    "\n",
    "**The linear program is:**  \n",
    "$min \\; z \\\\\n",
    "such\\;that\\;x_A + x_B \\geq 50, \\\\\n",
    "\\;\\;\\;\\;\\;\\;\\;\\;\\;\\;\\;\\;30 \\leq x_A \\leq 100 \\\\\n",
    "\\;\\;\\;\\;\\;\\;\\;\\;\\;\\;\\;\\;x_B \\leq 100 \\\\\n",
    "\\;\\;\\;\\;\\;\\;\\;\\;\\;\\;\\;\\;-z \\leq 2x_B - x_A \\leq z \\\\\n",
    "         $    \n",
    "$ The\\;optimal\\;solution\\;is\\;4.87\\;x\\;10^{-10}\\;minutes\\;and\\;occurs\\;when\\;x_A = 62.51\\;and\\;x_B = 31.26.$\n",
    "\n",
    "**If a non-negativity constraint is placed on $x_B$, the linear program is:**  \n",
    "$min \\; z \\\\\n",
    "such\\;that\\;x_A + x_B \\geq 50, \\\\\n",
    "\\;\\;\\;\\;\\;\\;\\;\\;\\;\\;\\;\\;30 \\leq x_A \\leq 100 \\\\\n",
    "\\;\\;\\;\\;\\;\\;\\;\\;\\;\\;\\;\\;0 \\leq x_B \\leq 100 \\\\\n",
    "\\;\\;\\;\\;\\;\\;\\;\\;\\;\\;\\;\\;-z \\leq 2x_B - x_A \\leq z \\\\\n",
    "         $    \n",
    "$ The\\;optimal\\;solution\\;is\\;4.04\\;x\\;10^{-10}\\;minutes\\;and\\;occurs\\;when\\;x_A = 59.95\\;and\\;x_B = 28.97.$\n",
    "         "
   ]
  },
  {
   "cell_type": "code",
   "execution_count": 49,
   "metadata": {},
   "outputs": [],
   "source": [
    "# Define Objective Funtion\n",
    "x_a = cp.Variable(name=\"x_a\")\n",
    "x_b = cp.Variable(name=\"x_b\")\n",
    "z = cp.Variable(name=\"z\")\n",
    "objective = cp.Minimize(z)\n",
    "\n",
    "# Define constraints\n",
    "constraints = [x_a + x_b >= 50,\n",
    "               x_a >= 30,\n",
    "               x_a <= 100,\n",
    "               x_b <= 100,\n",
    "               -z <= (2*x_b - x_a),\n",
    "               (2*x_b - x_a) <= z            \n",
    "              ]\n",
    "\n",
    "problem = cp.Problem(objective, constraints)"
   ]
  },
  {
   "cell_type": "code",
   "execution_count": 38,
   "metadata": {},
   "outputs": [
    {
     "data": {
      "text/plain": [
       "4.869780959508185e-10"
      ]
     },
     "execution_count": 38,
     "metadata": {},
     "output_type": "execute_result"
    }
   ],
   "source": [
    "problem.solve()"
   ]
  },
  {
   "cell_type": "code",
   "execution_count": 43,
   "metadata": {},
   "outputs": [
    {
     "data": {
      "text/plain": [
       "array(62.5152154)"
      ]
     },
     "execution_count": 43,
     "metadata": {},
     "output_type": "execute_result"
    }
   ],
   "source": [
    "x_a.value"
   ]
  },
  {
   "cell_type": "code",
   "execution_count": 40,
   "metadata": {
    "scrolled": true
   },
   "outputs": [
    {
     "data": {
      "text/plain": [
       "array(31.2576077)"
      ]
     },
     "execution_count": 40,
     "metadata": {},
     "output_type": "execute_result"
    }
   ],
   "source": [
    "x_b.value"
   ]
  },
  {
   "cell_type": "markdown",
   "metadata": {},
   "source": [
    "The linear program with non-negativity constraint on $x_B$:"
   ]
  },
  {
   "cell_type": "code",
   "execution_count": 52,
   "metadata": {},
   "outputs": [],
   "source": [
    "# Define Objective Funtion\n",
    "x_a = cp.Variable(name=\"x_a\")\n",
    "x_b = cp.Variable(name=\"x_b\")\n",
    "z = cp.Variable(name=\"z\")\n",
    "objective = cp.Minimize(z)\n",
    "\n",
    "# Define constraints\n",
    "constraints = [x_a + x_b >= 50,\n",
    "               x_a >= 30,\n",
    "               x_a <= 100,\n",
    "               x_b >= 0,\n",
    "               x_b <= 100,\n",
    "               -z <= (2*x_b - x_a),\n",
    "               (2*x_b - x_a) <= z            \n",
    "              ]\n",
    "\n",
    "problem = cp.Problem(objective, constraints)"
   ]
  },
  {
   "cell_type": "code",
   "execution_count": 53,
   "metadata": {},
   "outputs": [
    {
     "data": {
      "text/plain": [
       "4.0432923118086885e-10"
      ]
     },
     "execution_count": 53,
     "metadata": {},
     "output_type": "execute_result"
    }
   ],
   "source": [
    "problem.solve()"
   ]
  },
  {
   "cell_type": "code",
   "execution_count": 54,
   "metadata": {},
   "outputs": [
    {
     "data": {
      "text/plain": [
       "array(57.94946703)"
      ]
     },
     "execution_count": 54,
     "metadata": {},
     "output_type": "execute_result"
    }
   ],
   "source": [
    "x_a.value"
   ]
  },
  {
   "cell_type": "code",
   "execution_count": 55,
   "metadata": {
    "scrolled": true
   },
   "outputs": [
    {
     "data": {
      "text/plain": [
       "array(28.97473352)"
      ]
     },
     "execution_count": 55,
     "metadata": {},
     "output_type": "execute_result"
    }
   ],
   "source": [
    "x_b.value"
   ]
  },
  {
   "cell_type": "markdown",
   "metadata": {},
   "source": [
    "# Question 2"
   ]
  },
  {
   "cell_type": "markdown",
   "metadata": {},
   "source": [
    "$Let \\;\\;  x_1 = number\\;of\\;units\\;produced\\;by\\;supplier\\;1 \\\\\n",
    "\\;\\;\\;\\;\\;\\;\\;   x_2 = number\\;of\\;units\\;produced\\;by\\;supplier\\;2\\\\\n",
    "\\;\\;\\;\\;\\;\\;\\;  c_1 = cost\\;of\\;units\\;supplied\\;by\\;supplier\\;1\\\\\n",
    "\\;\\;\\;\\;\\;\\;\\;   c_2 = cost\\;of\\;units\\;supplied\\;by\\;supplier\\;2\\\\\n",
    "$\n",
    "$c_1 = 10$\n",
    "\n",
    "$ c_2 = \\begin{cases}\n",
    "1200 &\\text{for $0 \\leq x_2 \\leq 100$}\\\\\n",
    "5(x_2-100) + 1200 &\\text{for $x_2 \\gt 100$}\\\\\n",
    "\\end{cases}$\n",
    "\n",
    "Objective Function:\n",
    "\n",
    "$ min \\; c_1x_1 + c_2x_2 \\\\\n",
    "= \\begin{cases}\n",
    "10x_1 + 1200 &\\text{for $0 \\leq x_2 \\leq 100$}\\\\\n",
    "10x_1 + 5(x_2-100) + 1200 &\\text{for $x_2 \\gt 100$}\\\\\n",
    "\\end{cases} \\\\\n",
    "\\implies min \\; max(10x_1 + 1200, 10x_1 + 5(x_2-100) + 1200)\n",
    "$\n",
    "\n",
    "**The linear program is:**  \n",
    "$min \\; max(10x_1 + 1200, 10x_1 + 5(x_2-100) + 1200) \\\\\n",
    "such\\;that\\;x_1 + x_2 = 500 \\\\\n",
    "\\;\\;\\;\\;\\;\\;\\;\\;\\;\\;\\;\\;\\;x_1 \\geq 0 \\\\\n",
    "\\;\\;\\;\\;\\;\\;\\;\\;\\;\\;\\;\\;\\;x_2 \\geq 0 \\\\\n",
    "         $    \n",
    "$ The\\;optimal\\;solution\\;is\\;\\$3200\\;and\\;occurs\\;when\\;x_1 = 0\\;and\\;x_2 = 500.$"
   ]
  },
  {
   "cell_type": "code",
   "execution_count": 121,
   "metadata": {},
   "outputs": [],
   "source": [
    "# Define Objective Funtion\n",
    "x1 = cp.Variable(name=\"x1\")\n",
    "x2 = cp.Variable(name=\"x2\")\n",
    "piecewise_function = cp.maximum(10*x1 + 0*x2 + 1200, 10*x1 + 5*(x2-100) + 1200)\n",
    "objective = cp.Minimize(piecewise_function)\n",
    "\n",
    "# Define constraints\n",
    "constraints = [x1 + x2 == 500,\n",
    "               x1 >= 0,\n",
    "               x2 >= 0\n",
    "              ]\n",
    "\n",
    "problem = cp.Problem(objective, constraints)"
   ]
  },
  {
   "cell_type": "code",
   "execution_count": 108,
   "metadata": {},
   "outputs": [
    {
     "data": {
      "text/plain": [
       "3200.0000057373554"
      ]
     },
     "execution_count": 108,
     "metadata": {},
     "output_type": "execute_result"
    }
   ],
   "source": [
    "problem.solve()"
   ]
  },
  {
   "cell_type": "code",
   "execution_count": 109,
   "metadata": {},
   "outputs": [
    {
     "data": {
      "text/plain": [
       "array(1.15511929e-06)"
      ]
     },
     "execution_count": 109,
     "metadata": {},
     "output_type": "execute_result"
    }
   ],
   "source": [
    "x1.value"
   ]
  },
  {
   "cell_type": "code",
   "execution_count": 110,
   "metadata": {},
   "outputs": [
    {
     "data": {
      "text/plain": [
       "array(499.99999884)"
      ]
     },
     "execution_count": 110,
     "metadata": {},
     "output_type": "execute_result"
    }
   ],
   "source": [
    "x2.value"
   ]
  }
 ],
 "metadata": {
  "kernelspec": {
   "display_name": "Python 3 (ipykernel)",
   "language": "python",
   "name": "python3"
  },
  "language_info": {
   "codemirror_mode": {
    "name": "ipython",
    "version": 3
   },
   "file_extension": ".py",
   "mimetype": "text/x-python",
   "name": "python",
   "nbconvert_exporter": "python",
   "pygments_lexer": "ipython3",
   "version": "3.8.11"
  }
 },
 "nbformat": 4,
 "nbformat_minor": 4
}
