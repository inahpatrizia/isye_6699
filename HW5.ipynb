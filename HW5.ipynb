{
 "cells": [
  {
   "cell_type": "markdown",
   "metadata": {},
   "source": [
    "# Homework 5"
   ]
  },
  {
   "cell_type": "markdown",
   "metadata": {},
   "source": [
    "### Question 1"
   ]
  },
  {
   "cell_type": "markdown",
   "metadata": {},
   "source": [
    "$$ \\nabla f(x) = \n",
    "\\begin{pmatrix}\n",
    "\\frac{\\partial f}{\\partial x_1} \\\\ \\frac{\\partial f}{\\partial x_2}\n",
    "\\end{pmatrix} \n",
    "=\\begin{pmatrix}\n",
    "\\ 2(200x_1^3 - 200x_1x_2 + x_1 - 1) \\\\ 200(x_2 - x_1^2)\n",
    "\\end{pmatrix} $$ \n",
    "\n",
    "$$ \\nabla^2 f(x) = \n",
    "\\begin{pmatrix}\n",
    "\\frac{\\partial ^2 f}{\\partial x_1} & \\frac{\\partial f}{\\partial x_1x_2}\\\\\n",
    "\\frac{\\partial f}{\\partial x_2x_1} & \\frac{\\partial ^2 f}{\\partial x_2}\n",
    "\\end{pmatrix} \n",
    "=\\begin{pmatrix}\n",
    "2(600x_1^2 - 200x_2 + 1) & -400x_1\\\\\n",
    "-400x_1 & 200\n",
    "\\end{pmatrix}$$ "
   ]
  },
  {
   "cell_type": "markdown",
   "metadata": {},
   "source": [
    "### Question 2"
   ]
  },
  {
   "cell_type": "code",
   "execution_count": 1,
   "metadata": {},
   "outputs": [],
   "source": [
    "import numpy as np"
   ]
  },
  {
   "cell_type": "code",
   "execution_count": 2,
   "metadata": {},
   "outputs": [],
   "source": [
    "def f(x):\n",
    "    x_1 = x[0][0]\n",
    "    x_2 = x[1][0]\n",
    "    return 100*(x_2 - x_1**2)**2 + (1-x_1)**2\n",
    "\n",
    "def gradient(x):\n",
    "    x_1 = x[0][0]\n",
    "    x_2 = x[1][0]\n",
    "    \n",
    "    df_dx1 = 2*(200*x_1**3 - 200*x_1*x_2 + x_1 - 1)\n",
    "    df_dx2 = 200*(x_2 - x_1**2)\n",
    "    return np.array([[df_dx1],[df_dx2]])\n",
    "\n",
    "def hessian(x):\n",
    "    x_1 = x[0][0]\n",
    "    x_2 = x[1][0]\n",
    "    \n",
    "    d2f_dx1 = 2*(600*x_1**2 - 200*x_2 + 1)\n",
    "    df_dx1dx2 = -400*x_1\n",
    "    d2f_dx2 = 200\n",
    "    df_dx2dx1 = -400*x_1 \n",
    "    return np.array([[d2f_dx1, df_dx1dx2],[df_dx2dx1, d2f_dx2]])"
   ]
  },
  {
   "cell_type": "markdown",
   "metadata": {},
   "source": [
    "$$\n",
    "x_{0} = \\begin{pmatrix}\n",
    "1.2 \\\\ 1.2\n",
    "\\end{pmatrix} \t\n",
    "$$\n",
    "\n",
    "Newton's Method converges in 7 steps."
   ]
  },
  {
   "cell_type": "code",
   "execution_count": 3,
   "metadata": {
    "scrolled": false
   },
   "outputs": [
    {
     "name": "stdout",
     "output_type": "stream",
     "text": [
      "Iteration 0\n",
      "x_0 = [[1.2]\n",
      " [1.2]]\n",
      "a_0 = 1\n",
      "\n",
      "Iteration 1\n",
      "x_1 = [[1.19591837]\n",
      " [1.43020408]]\n",
      "a_1 = 0.6561000000000001\n",
      "\n",
      "Iteration 2\n",
      "x_2 = [[1.0678032 ]\n",
      " [1.12378445]]\n",
      "a_2 = 1\n",
      "\n",
      "Iteration 3\n",
      "x_3 = [[1.05197555]\n",
      " [1.10640204]]\n",
      "a_3 = 1\n",
      "\n",
      "Iteration 4\n",
      "x_4 = [[1.00247988]\n",
      " [1.00251608]]\n",
      "a_4 = 1\n",
      "\n",
      "Iteration 5\n",
      "x_5 = [[1.00081549]\n",
      " [1.00162887]]\n",
      "a_5 = 1\n",
      "\n",
      "Iteration 6\n",
      "x_6 = [[1.00000045]\n",
      " [1.00000024]]\n",
      "a_6 = 1\n",
      "\n"
     ]
    }
   ],
   "source": [
    "# Initialize variables\n",
    "x = np.array([[1.2],[1.2]])\n",
    "k = 0\n",
    "error = 10**-4\n",
    "p = 0.9 # in (0,1)\n",
    "c = 10**-5 # in (0,1)\n",
    "\n",
    "gradient_norm = np.linalg.norm(gradient(x))\n",
    "d = -np.linalg.inv(hessian(x))@gradient(x)\n",
    "\n",
    "################################################################################\n",
    "\n",
    "while gradient_norm > error:\n",
    "    print(\"Iteration \" + str(k))\n",
    "    print(\"x_\" + str(k) + \" = \" + str(np.matrix(x)))\n",
    "    \n",
    "    a = 1\n",
    "    \n",
    "    while f(x + a*d) > (f(x) + c*a*(gradient(x).transpose()@d)):\n",
    "        a = p*a\n",
    "   \n",
    "    print(\"a_\" + str(k) + \" = \" + str(a))\n",
    "    print(\"\")\n",
    "    \n",
    "    x = x + a*d    \n",
    "    d = -np.linalg.inv(hessian(x))@gradient(x)\n",
    "    gradient_norm = np.linalg.norm(gradient(x))\n",
    "    k+=1"
   ]
  },
  {
   "cell_type": "markdown",
   "metadata": {},
   "source": [
    "$$\n",
    "x_{0} = \\begin{pmatrix}\n",
    "-1.2 \\\\ 1.0\n",
    "\\end{pmatrix} \t\n",
    "$$\n",
    "\n",
    "Newton's Method converges in 19 steps."
   ]
  },
  {
   "cell_type": "code",
   "execution_count": 4,
   "metadata": {},
   "outputs": [
    {
     "name": "stdout",
     "output_type": "stream",
     "text": [
      "Iteration 0\n",
      "x_0 = [[-1.2]\n",
      " [ 1. ]]\n",
      "a_0 = 1\n",
      "\n",
      "Iteration 1\n",
      "x_1 = [[-1.1752809 ]\n",
      " [ 1.38067416]]\n",
      "a_1 = 0.16677181699666577\n",
      "\n",
      "Iteration 2\n",
      "x_2 = [[-0.85201111]\n",
      " [ 0.62091045]]\n",
      "a_2 = 1\n",
      "\n",
      "Iteration 3\n",
      "x_3 = [[-0.76783834]\n",
      " [ 0.58249067]]\n",
      "a_3 = 0.38742048900000015\n",
      "\n",
      "Iteration 4\n",
      "x_4 = [[-0.48447315]\n",
      " [ 0.15007825]]\n",
      "a_4 = 1\n",
      "\n",
      "Iteration 5\n",
      "x_5 = [[-0.40166751]\n",
      " [ 0.15448002]]\n",
      "a_5 = 0.47829690000000014\n",
      "\n",
      "Iteration 6\n",
      "x_6 = [[-0.11895435]\n",
      " [-0.06935379]]\n",
      "a_6 = 1\n",
      "\n",
      "Iteration 7\n",
      "x_7 = [[-0.0557394 ]\n",
      " [-0.00088925]]\n",
      "a_7 = 0.43046721000000016\n",
      "\n",
      "Iteration 8\n",
      "x_8 = [[ 0.19684765]\n",
      " [-0.02732715]]\n",
      "a_8 = 1\n",
      "\n",
      "Iteration 9\n",
      "x_9 = [[0.25334708]\n",
      " [0.06099256]]\n",
      "a_9 = 0.47829690000000014\n",
      "\n",
      "Iteration 10\n",
      "x_10 = [[0.47131197]\n",
      " [0.1729609 ]]\n",
      "a_10 = 1\n",
      "\n",
      "Iteration 11\n",
      "x_11 = [[0.52010727]\n",
      " [0.26813059]]\n",
      "a_11 = 0.5904900000000002\n",
      "\n",
      "Iteration 12\n",
      "x_12 = [[0.71206808]\n",
      " [0.46921697]]\n",
      "a_12 = 1\n",
      "\n",
      "Iteration 13\n",
      "x_13 = [[0.74568615]\n",
      " [0.55491766]]\n",
      "a_13 = 0.7290000000000001\n",
      "\n",
      "Iteration 14\n",
      "x_14 = [[0.8969011 ]\n",
      " [0.78125934]]\n",
      "a_14 = 1\n",
      "\n",
      "Iteration 15\n",
      "x_15 = [[0.91519906]\n",
      " [0.8372545 ]]\n",
      "a_15 = 1\n",
      "\n",
      "Iteration 16\n",
      "x_16 = [[0.99467786]\n",
      " [0.98306716]]\n",
      "a_16 = 1\n",
      "\n",
      "Iteration 17\n",
      "x_17 = [[0.99702927]\n",
      " [0.99406184]]\n",
      "a_17 = 1\n",
      "\n",
      "Iteration 18\n",
      "x_18 = [[0.99999672]\n",
      " [0.99998463]]\n",
      "a_18 = 1\n",
      "\n"
     ]
    }
   ],
   "source": [
    "# Initialize variables\n",
    "x = np.array([[-1.2],[1]])\n",
    "k = 0\n",
    "error = 10**-4\n",
    "p = 0.9 # in (0,1)\n",
    "c = 10**-5 # in (0,1)\n",
    "\n",
    "gradient_norm = np.linalg.norm(gradient(x))\n",
    "d = -np.linalg.inv(hessian(x))@gradient(x)\n",
    "\n",
    "################################################################################\n",
    "\n",
    "while gradient_norm > error:\n",
    "    print(\"Iteration \" + str(k))\n",
    "    print(\"x_\" + str(k) + \" = \" + str(np.matrix(x)))\n",
    "    \n",
    "    a = 1\n",
    "    \n",
    "    while f(x + a*d) > (f(x) + c*a*(gradient(x).transpose()@d)):\n",
    "        a = p*a\n",
    "   \n",
    "    print(\"a_\" + str(k) + \" = \" + str(a))\n",
    "    print(\"\")\n",
    "    \n",
    "    x = x + a*d    \n",
    "    d = -np.linalg.inv(hessian(x))@gradient(x)\n",
    "    gradient_norm = np.linalg.norm(gradient(x))\n",
    "    k+=1"
   ]
  },
  {
   "cell_type": "markdown",
   "metadata": {},
   "source": [
    "### Question 3"
   ]
  },
  {
   "cell_type": "markdown",
   "metadata": {},
   "source": [
    "$$min \\sum^3_{i=1}\\sum^{5}_{j=1}\\,c_{ij} x_{ij} \n",
    "= c_{AE}x_{AE} + c_{EH}x_{EH} + c_{AD} x_{AD} + c_{EF}x_{EF} + c_{HF}x_{HF} + c_{CH}x_{CH} + c_{CF}x_{CF} + c_{CG}x_{CG} + c_{FG}x_{FG} + c_{BG}x_{BG} + c_{BF}x_{BF} + c_{BD}x_{BD} + c_{FD}x_{FD}  \\\\\n",
    "= 4x_{AE} + 2x_{EH} + 2x_{AD} + 4x_{EF} + 4x_{HF} + 2x_{CH} + 5x_{CF} + x_{CG} + x_{FG} + 2x_{BG} + 3x_{BF} + 3x_{BD} + 2x_{FD} $$\n",
    "\n",
    "\n",
    "$$\\sum^{3}_{i=1}\\,x_{ij} \\geq d_{j} \\; \\forall j\\\\\n",
    "x_{AD} + x_{BD} + x_{CD} \\geq 50 \\\\\n",
    "x_{AE} + x_{BE} + x_{CE} \\geq 60\\\\\n",
    "x_{AF} + x_{BF} + x_{CF} \\geq 40\\\\\n",
    "x_{AG} + x_{BG} + x_{CG} \\geq 30\\\\\n",
    "x_{AH} + x_{BH} + x_{CH} \\geq 70\\\\\n",
    "$$\t\n",
    "\n",
    "$$\\sum^{5}_{j=1}\\,x_{ij} \\leq s_{i} \\; \\forall i\\\\\n",
    "x_{AD} + x_{AE} + x_{AF} + x_{AG} + x_{AH} \\leq 100 \\\\\n",
    "x_{BD} + x_{BE} + x_{BF} + x_{BG} + x_{BH} \\leq 100 \\\\\n",
    "x_{CD} + x_{CE} + x_{CF} + x_{CG} + x_{CH} \\leq 80 \\\\\n",
    "$$\n",
    "\n",
    "$$x_{ij} \\geq 0, i=1,2,3, j=1,2,3,4,5 $$\n"
   ]
  },
  {
   "cell_type": "markdown",
   "metadata": {},
   "source": [
    "#### The final linear program is:  \n",
    "$$min \\; 4x_{AE} + 2x_{EH} + 2x_{AD} + 4x_{EF} + 4x_{HF} + 2x_{CH} + 5x_{CF} + x_{CG} + x_{FG} + 2x_{BG} + 3x_{BF} + 3x_{BD} + 2x_{DF} $$\n",
    "\n",
    "such that $$x_{AD} + x_{BD} + x_{CD} \\geq 50 \\\\\n",
    "x_{AE} + x_{BE} + x_{CE} \\geq 60\\\\\n",
    "x_{AF} + x_{BF} + x_{CF} \\geq 40\\\\\n",
    "x_{AG} + x_{BG} + x_{CG} \\geq 30\\\\\n",
    "x_{AH} + x_{BH} + x_{CH} \\geq 70\\\\\n",
    "x_{AD} + x_{AE} + x_{AF} + x_{AG} + x_{AH} \\leq 100 \\\\\n",
    "x_{BD} + x_{BE} + x_{BF} + x_{BG} + x_{BH} \\leq 100 \\\\\n",
    "x_{CD} + x_{CE} + x_{CF} + x_{CG} + x_{CH} \\leq 80 \\\\\n",
    "\\\\\n",
    "x_{ij} \\geq 0, i=1,2,3, j=1,2,3,4,5 $$\n",
    "\n",
    "**In terms of the pipe numbers:**\n",
    "\n",
    "$$min \\; 4x_{3} + 2x_{9} + 2x_{1} + 4x_{7} + 4x_{10} + 2x_{13} + 5x_{11} + x_{12} + x_{8} + 2x_{6} + 3x_{5} + 3x_{2} + 2x_{4} $$\n",
    "\n",
    "i: let A = 1, B = 2, C = 3  \n",
    "j: let D = 1, E = 2, F = 3, G = 4, H = 5\n",
    "\n",
    "such that $$x_{1,1} + x_{2,1} + x_{3,1} \\geq 50 \\\\\n",
    "x_{1,2} + x_{2,2} + x_{3,2} \\geq 60\\\\\n",
    "x_{1,3} + x_{2,3} + x_{3,3} \\geq 40\\\\\n",
    "x_{1,4} + x_{2,4} + x_{3,4} \\geq 30\\\\\n",
    "x_{1,5} + x_{2,5} + x_{3,5} \\geq 70\\\\\n",
    "x_{1,1} + x_{1,2} + x_{1,3} + x_{1,4} + x_{1,5} \\leq 100 \\\\\n",
    "x_{2,1} + x_{2,2} + x_{2,3} + x_{2,4} + x_{2,5}  \\leq 100 \\\\\n",
    "x_{3,1} = x_{3,2} + x_{3,3} + x_{3,4} + x_{3,5}  \\leq 80 \\\\\n",
    "\\\\\n",
    "x_{ij} \\geq 0, i=1,2,3, j=1,2,3,4,5 $$"
   ]
  },
  {
   "cell_type": "markdown",
   "metadata": {},
   "source": [
    "### Question 4"
   ]
  },
  {
   "cell_type": "markdown",
   "metadata": {},
   "source": [
    "##### Part (a)\n",
    "$$min \\sum^{|G|}_{i=1}c_{i} p_{i} = 16p_1 + 20p_2 + 8p_3$$\n",
    "\n",
    "such that $$\\sum^{}_{j \\in O(i)} f_{ij} - \\sum^{}_{j \\in I(i)} f_{ij}  = p_i \\;\\; for \\; i \\in G $$\n",
    "\n",
    "$$p_1 = f_{12} -  f_{61} - 0 \\\\\n",
    "p_2 = -f_{23} + f_{34} - 0 \\\\\n",
    "p_3 = f_{56} - f_{45} - 0 $$\n",
    "Note: I explicitly show subtraction of 0 to show that there's no inflow to the generator nodes. Also, some of the signs are negative because the outflow is flowing in the opposite direction of the notation.\n",
    "\n",
    "$$\\sum^{}_{j \\in O(i)} f_{ij} - \\sum^{}_{j \\in I(i)} f_{ij} = -d_i\\;\\; for \\; i \\in D $$\n",
    "$$d_1 = -110 = 0 - (f_{12} - f_{23}) \\Rightarrow\t-110 = -f_{12} + f_{23}\\\\\n",
    "d_2 = -65 = 0 - (f_{34} - f_{45}) \\Rightarrow -65 = -f_{34} + f_{45}\\\\\n",
    "d_3 = -95 = 0 - (f_{56} - f_{61}) \\Rightarrow -95 = -f_{56} + f_{61}$$\n",
    "Note: Some of the signs are negative because the inflow is flowing in the opposite direction of the notation.\n",
    "\n",
    "$$f_{ij} = B_{ij}(\\theta_{i} - \\theta_{j}) \\; for \\; all \\; (i,j) \\in E$$\n",
    "$$ f_{12} = B_{12}(\\theta_{1} - \\theta_{2}) = 11.6(\\theta_{1} - \\theta_{2})\\\\\n",
    "f_{23} = B_{23}(\\theta_{2} - \\theta_{3}) = 5.9(\\theta_{2} - \\theta_{3}) \\\\\n",
    "f_{34} = B_{34}(\\theta_{3} - \\theta_{4}) = 13.7(\\theta_{3} - \\theta_{4})\\\\\n",
    "f_{45} = B_{45}(\\theta_{4} - \\theta_{5}) = 9.8(\\theta_{4} - \\theta_{5}) \\\\\n",
    "f_{56} = B_{56}(\\theta_{5} - \\theta_{6}) = 5.6(\\theta_{5} - \\theta_{6})\\\\\n",
    "f_{61} = B_{61}(\\theta_{6} - \\theta_{1}) = 10.5(\\theta_{6} - \\theta_{1})\n",
    "$$\n",
    "\n",
    "$$-F_{ij} \\leq f_{ij} \\le F_{ij} \\; for \\; all \\; (i,j) \\in E$$\n",
    "$$ -100 \\leq f_{12} \\leq 100 \\\\ \n",
    "-110 \\leq f_{23} \\leq 110 \\\\ \n",
    "-50 \\leq f_{34} \\leq 50 \\\\ \n",
    "-80 \\leq f_{45} \\leq 80 \\\\ \n",
    "-60 \\leq f_{56} \\leq 60 \\\\ \n",
    "-40 \\leq f_{61} \\leq 40 \\\\ \n",
    "$$\n",
    "\n",
    "\n",
    "$$p^{m}_{i} \\leq p_i \\le p^{M}_{i} \\; for \\; all \\; i \\in G$$\n",
    "$$20 \\leq p_1 \\leq 200 \\\\\n",
    "20 \\leq p_2 \\leq 150 \\\\\n",
    "10 \\leq p_3 \\leq 150$$"
   ]
  },
  {
   "cell_type": "markdown",
   "metadata": {},
   "source": [
    "#### The final linear program is: \n",
    "$$min \\; 16p_1 + 20p_2 + 8p_3$$\n",
    "such that $$p_1 = f_{12} -  f_{61}, p_2 = f_{34} - f_{23}, p_3 = f_{56} - f_{45}$$\n",
    "\n",
    "$$f_{23} - f_{12} = -110, f_{45} - f_{34} = -65, f_{61} - f_{56} = -95$$\n",
    "\n",
    "$$f_{12} = 11.6(\\theta_{1} - \\theta_{2})\\\\\n",
    "f_{23} = 5.9(\\theta_{2} - \\theta_{3}) \\\\\n",
    "f_{34} = 13.7(\\theta_{3} - \\theta_{4})\\\\\n",
    "f_{45} = 9.8(\\theta_{4} - \\theta_{5}) \\\\\n",
    "f_{56} = 5.6(\\theta_{5} - \\theta_{6})\\\\\n",
    "f_{61} = 10.5(\\theta_{6} - \\theta_{1})$$\n",
    "\n",
    "$$-100 \\leq f_{12} \\leq 100 \\\\ \n",
    "-110 \\leq f_{23} \\leq 110 \\\\ \n",
    "-50 \\leq f_{34} \\leq 50 \\\\ \n",
    "-80 \\leq f_{45} \\leq 80 \\\\ \n",
    "-60 \\leq f_{56} \\leq 60 \\\\ \n",
    "-40 \\leq f_{61} \\leq 40 $$ \n",
    "\n",
    "$$20 \\leq p_1 \\leq 200 \\\\\n",
    "20 \\leq p_2 \\leq 150 \\\\\n",
    "10 \\leq p_3 \\leq 150\n",
    "$$\n"
   ]
  },
  {
   "cell_type": "markdown",
   "metadata": {},
   "source": [
    "##### Part (b)"
   ]
  },
  {
   "cell_type": "code",
   "execution_count": 5,
   "metadata": {},
   "outputs": [],
   "source": [
    "import cvxpy as cp\n",
    "\n",
    "# Define Objective Function\n",
    "c = np.array([15,20,8])\n",
    "p = cp.Variable(shape=(3,1), name=\"p\")\n",
    "obj_function = cp.matmul(c, p)\n",
    "objective = cp.Minimize(cp.sum(obj_function, axis=0))\n",
    "\n",
    "# p contraints\n",
    "p_lower = np.array([[20],[20],[10]])\n",
    "p_upper = np.array([[200],[150],[150]])\n",
    "\n",
    "f = cp.Variable(shape=(1,6), name=\"f\")\n",
    "theta = cp.Variable(shape=(1,6), name=\"theta\")\n",
    "\n",
    "# f constraints\n",
    "f_lower = np.array([[-100],[-110],[-50],[-80],[-60],[-40]])\n",
    "f_upper = np.array([[100],[110],[50],[80],[60],[40]])\n",
    "\n",
    "# formulas for [p1,p2,p3]\n",
    "supply = f@np.array([[1,0,0],[0,-1,0],[0,1,0],[0,0,-1],[0,0,1],[-1,0,0]])\n",
    "\n",
    "# formulas for [d1,d2,d3]\n",
    "d = np.array([[-110],[-65],[-95]])\n",
    "demand = f@np.array([[-1,0,0],[1,0,0],[0,-1,0],[0,1,0],[0,0,-1],[0,0,1]])\n",
    "\n",
    "theta_formulas = theta@np.array([[11.6,0,0,0,0,-10.5],\n",
    "          [-11.6,5.9,0,0,0,0],\n",
    "          [0,-5.9,13.7,0,0,0],\n",
    "          [0,0,-13.7,9.8,0,0],\n",
    "          [0,0,0,-9.8,5.6,0],\n",
    "          [0,0,0,0,-5.6,10.5]])\n",
    "\n",
    "constraints = [ p >= p_lower.transpose(), \n",
    "                p <= p_upper.transpose(), \n",
    "                f >= f_lower.transpose(), \n",
    "                f <= f_upper.transpose(), \n",
    "                p == supply.T,\n",
    "                d == demand.T,\n",
    "                f.T == theta_formulas.T\n",
    "              ]\n",
    "\n",
    "problem = cp.Problem(objective, constraints)"
   ]
  },
  {
   "cell_type": "code",
   "execution_count": 6,
   "metadata": {},
   "outputs": [
    {
     "data": {
      "text/plain": [
       "3191.840097245871"
      ]
     },
     "execution_count": 6,
     "metadata": {},
     "output_type": "execute_result"
    }
   ],
   "source": [
    "problem.solve()"
   ]
  },
  {
   "cell_type": "code",
   "execution_count": 7,
   "metadata": {},
   "outputs": [
    {
     "data": {
      "text/plain": [
       "array([[113.12001378],\n",
       "       [ 20.00000006],\n",
       "       [136.87998615]])"
      ]
     },
     "execution_count": 7,
     "metadata": {},
     "output_type": "execute_result"
    }
   ],
   "source": [
    "p.value"
   ]
  },
  {
   "cell_type": "code",
   "execution_count": 8,
   "metadata": {},
   "outputs": [
    {
     "data": {
      "text/plain": [
       "array([[ 78.12001376, -31.87998624, -11.87998617, -76.87998617,\n",
       "         59.99999998, -35.00000002]])"
      ]
     },
     "execution_count": 8,
     "metadata": {},
     "output_type": "execute_result"
    }
   ],
   "source": [
    "f.value"
   ]
  },
  {
   "cell_type": "code",
   "execution_count": 9,
   "metadata": {},
   "outputs": [
    {
     "data": {
      "text/plain": [
       "array([[ 0.92212606, -5.81235789, -0.40897039,  0.45818189,  8.30307843,\n",
       "        -2.41120728]])"
      ]
     },
     "execution_count": 9,
     "metadata": {},
     "output_type": "execute_result"
    }
   ],
   "source": [
    "theta.value"
   ]
  },
  {
   "cell_type": "markdown",
   "metadata": {},
   "source": [
    "The minimum cost to this electric power network is $3191.84.\n",
    "\n",
    "$$p_1 = 113.12, p_2 = 20, p_3 = 136.88$$\n",
    "$$f_{12} = 78.12, f_{23} = -31.88, f_{34} = -11.88, f_{45} = -76.88, f_{56} = 60, f_{61} = -35$$\n",
    "$$\\theta_{1} = 0.92, \\theta_{2} = -5.81, \\theta_{3} = -0.41, \\theta_{4} = 0.46, \\theta_{5} = 8.3, \\theta_{5} = -2.41 $$"
   ]
  },
  {
   "cell_type": "markdown",
   "metadata": {},
   "source": [
    "##### Part (c)"
   ]
  },
  {
   "cell_type": "code",
   "execution_count": 10,
   "metadata": {},
   "outputs": [
    {
     "data": {
      "text/plain": [
       "array([[13.59901667],\n",
       "       [ 9.65830686],\n",
       "       [16.54775308]])"
      ]
     },
     "execution_count": 10,
     "metadata": {},
     "output_type": "execute_result"
    }
   ],
   "source": [
    "constraints[5].dual_value"
   ]
  },
  {
   "cell_type": "markdown",
   "metadata": {},
   "source": [
    "Elasticity prices for demand are as follows:\n",
    "$$Node \\;2 : \\pi_1 = $13.60 \\\\\n",
    "Node \\;4 : \\pi_2 = $9.66 \\\\\n",
    "Node \\;6 : \\pi_3 = $16.54 $$"
   ]
  }
 ],
 "metadata": {
  "kernelspec": {
   "display_name": "Python 3",
   "language": "python",
   "name": "python3"
  },
  "language_info": {
   "codemirror_mode": {
    "name": "ipython",
    "version": 3
   },
   "file_extension": ".py",
   "mimetype": "text/x-python",
   "name": "python",
   "nbconvert_exporter": "python",
   "pygments_lexer": "ipython3",
   "version": "3.8.5"
  }
 },
 "nbformat": 4,
 "nbformat_minor": 5
}
