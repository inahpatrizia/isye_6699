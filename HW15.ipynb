{
 "cells": [
  {
   "cell_type": "markdown",
   "metadata": {},
   "source": [
    "# HW 15"
   ]
  },
  {
   "cell_type": "markdown",
   "metadata": {},
   "source": [
    "### Question 1a\n",
    "Let $x_t = 1$ if there is a transaction in period t, for $t = 1,...,T$.  \n",
    "\n",
    "If $x_1=1$ then we can have transactions in at most half of the remaining periods.  \n",
    "  \n",
    "$(1-x_1) \\sum_{t=1}^{T} x_t + x_1(\\sum_{t=2}^{T} x_t) \\le (\\frac{T-1}{2})x_1 + T(1-x_1)$  \n",
    "\n",
    "If $x_1 = 1$, there is a transaction in period 1, so the sum of periods after can't be more than $\\frac{T-1}{2}$. The condition above becomes:  \n",
    "$ \\sum_{t=2}^{T} x_t \\le \\frac{T-1}{2}$  \n",
    "  \n",
    "  \n",
    "If $x_1 = 0$, there is no transaction in period 1, then the sum of all the periods can at most be T. The condition above becomes:  \n",
    "$\\sum_{t=1}^{T} x_t \\le T$  \n"
   ]
  },
  {
   "cell_type": "markdown",
   "metadata": {},
   "source": [
    "### Question 1b\n",
    "\n",
    "$|2x_1-x_2-x_3| \\ge 2$\n",
    "\n",
    "Let $y=1$ when $2x_1-x_2-x_3 \\ge 2 \\longrightarrow$ When $y=0, -(2x_1-x_2-x_3) \\ge 2$.\n",
    "  \n",
    "$y(2x_1-x_2-x_3) + (1-y)(-2x_1+x_2+x_3) \\ge 2$  \n",
    "$0 \\le x_i \\le 3 \\;\\;  \\forall i=1,2,3$  \n",
    "$x_i \\in R^n$"
   ]
  },
  {
   "cell_type": "markdown",
   "metadata": {},
   "source": [
    "### Question 1c\n",
    "Either $x_1+x_2 \\leq 10$ or $2x_1-x_2 \\ge 5$ but not both.  \n",
    "\n",
    "Let $\\;y_1 = 1, x_1+x_2 \\leq 10$  \n",
    "$\\;\\;\\;\\;\\;\\;y_2 = 1,  2x_1-x_2 \\ge 5$\n",
    "\n",
    "$y_1+y_2 = 1$  \n",
    "$0 \\le x_i \\le 10 \\;\\;  \\forall i=1,2$  \n",
    "$x_i \\in Z^n$"
   ]
  },
  {
   "cell_type": "markdown",
   "metadata": {},
   "source": [
    "### Question 2\n",
    "\n",
    "$i = 1,...,100$ beam positions  \n",
    "$j = 1,...,5000$ cells, 1 to 1000 are cancerous  \n",
    "$d_{ij} = $ dose deposited on cell j by beam i  \n",
    "$x_i = $ intensity of radiation beam at position i  \n",
    "$y_i = $ dose depositied on cell j  \n",
    "\n",
    "1) Minimize total dose deposited on normal cells  \n",
    "$min \\sum_{j=1001}^{5000} y_j$  \n",
    "\n",
    "2) Dose deposited on each cancer cell should be at least 70 units  \n",
    "$y_i \\ge 70, i=1,...,1000$  \n",
    "\n",
    "3) At least 90% of cancer cells should at least get a dose of at least 75 units  \n",
    "$z_j = 1,$ if cell j gets at least 75 units  \n",
    "$\\frac{\\sum_{j=1}^{1000} z_j}{1000} \\ge 0.90$  \n",
    "\n",
    "4) Dose deposited on each normal cell should not exceed 25 units  \n",
    "$y_j \\le 25, j=1001,...,5000$"
   ]
  },
  {
   "cell_type": "markdown",
   "metadata": {},
   "source": [
    "### Question 3\n",
    "a) I think this is a minimization problem because the tree continues with the objective values getting smaller as the tree branches.  \n",
    "  \n",
    "b) (10) to explore if lower level branches will provide a smaller value.   \n",
    "  \n",
    "c) (4), (5), (7) because they are integer solutions.\n",
    "  \n",
    "d) To solve this problem, I went down the left side of the tree first the objective value at (1) is less than that at (2). Bounds at level 1 are $8.3 \\le v^{IP} \\leq 10$ When (1) is explored, the bounds become $7.2 \\le v^{IP} \\leq 8$. When (3) is explored, the lower bound changes to 7 and final bounds are $7 \\le v^{IP} \\leq 8$. Thus, the optimality gap is 1.   \n",
    "  \n",
    "e) (4), (7), (9)"
   ]
  }
 ],
 "metadata": {
  "kernelspec": {
   "display_name": "Python 3",
   "language": "python",
   "name": "python3"
  },
  "language_info": {
   "codemirror_mode": {
    "name": "ipython",
    "version": 3
   },
   "file_extension": ".py",
   "mimetype": "text/x-python",
   "name": "python",
   "nbconvert_exporter": "python",
   "pygments_lexer": "ipython3",
   "version": "3.8.5"
  }
 },
 "nbformat": 4,
 "nbformat_minor": 4
}
