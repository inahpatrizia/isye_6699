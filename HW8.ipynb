{
 "cells": [
  {
   "cell_type": "markdown",
   "metadata": {},
   "source": [
    "# Homework 8 \n",
    "### Question 3"
   ]
  },
  {
   "cell_type": "code",
   "execution_count": 1,
   "metadata": {},
   "outputs": [],
   "source": [
    "import pandas as pd\n",
    "import numpy as np\n",
    "from scipy import linalg"
   ]
  },
  {
   "cell_type": "code",
   "execution_count": 2,
   "metadata": {},
   "outputs": [],
   "source": [
    "A = np.array([[1,1,1,0,0], [-1,1,0,1,0], [1,-1,0,0,1]])\n",
    "b = np.array([[4],[2],[2]])\n",
    "c = np.array([[-2],[4],[0],[0],[0]])"
   ]
  },
  {
   "cell_type": "code",
   "execution_count": 3,
   "metadata": {},
   "outputs": [],
   "source": [
    "# for i in range(1):\n",
    "#     print(\"Iteration: \" + str(i+1))\n",
    "    \n",
    "#     # Slice A into B and N based on combinations of 3 vectors\n",
    "# #     B_index = combos[i]\n",
    "# #     N_index = anti_combo[i]\n",
    "\n",
    "def get_info(A, b, c, bfs, nbfs):\n",
    "    B = A[:,bfs]\n",
    "    N = A[:,nbfs]\n",
    "    \n",
    "    print(\"Basis Matrix: \")\n",
    "    print(B)\n",
    "    \n",
    "    print(\"Inverse Basis Matrix:\")\n",
    "    B_inv = linalg.inv(B)\n",
    "    print(B_inv)\n",
    "    \n",
    "    print(\"Basic Variables: \"+ str([\"x_\" + str(x+1) for x in bfs]))\n",
    "    x_B = B_inv@b\n",
    "    print(x_B)\n",
    "    \n",
    "    print(\"Non-Basic Variables: \"+ str([\"x_\" + str(x+1) for x in nbfs]))\n",
    "    x_N = np.array([[0],[0]])\n",
    "    print(x_N)\n",
    "    \n",
    "    c_bfs = c[bfs]\n",
    "    \n",
    "    c_first_red = c[nbfs[0]] - c_bfs.T@B_inv@A[:,nbfs[0]]\n",
    "    c_second_red = c[nbfs[1]] - c_bfs.T@B_inv@A[:,nbfs[1]]\n",
    "        \n",
    "    print(\"Reduced Cost for c_\" + str(nbfs[0]+1) + \" = \" + str(c_first_red))\n",
    "    print(c[nbfs[0]], c_bfs.T@B_inv@A[:,nbfs[0]])\n",
    "    print(\"Reduced Cost for c_\" + str(nbfs[1]+1) + \" = \" + str(c_second_red))  \n",
    "    print(c[nbfs[1]], c_bfs.T@B_inv@A[:,nbfs[1]])\n",
    "    \n",
    "    if ((c_first_red < 0) and (c_second_red > 0)):\n",
    "        enter_index = nbfs[0]\n",
    "    elif ((c_first_red > 0) and (c_second_red < 0)):\n",
    "        enter_index = nbfs[1]\n",
    "    else:\n",
    "        enter_index = min(nbfs)\n",
    "   \n",
    "    print(\"Enters Basis: x_\" + str(enter_index + 1))\n",
    "    print(\"Direction:\")\n",
    "    d_B = -B_inv@A[:,enter_index]\n",
    "    print(d_B)\n",
    "    \n",
    "    return None"
   ]
  },
  {
   "cell_type": "code",
   "execution_count": 4,
   "metadata": {},
   "outputs": [
    {
     "name": "stdout",
     "output_type": "stream",
     "text": [
      "Basis Matrix: \n",
      "[[ 1  1  0]\n",
      " [-1  1  0]\n",
      " [ 1 -1  1]]\n",
      "Inverse Basis Matrix:\n",
      "[[ 0.5 -0.5 -0. ]\n",
      " [ 0.5  0.5 -0. ]\n",
      " [ 0.   1.   1. ]]\n",
      "Basic Variables: ['x_1', 'x_2', 'x_5']\n",
      "[[1.]\n",
      " [3.]\n",
      " [4.]]\n",
      "Non-Basic Variables: ['x_3', 'x_4']\n",
      "[[0]\n",
      " [0]]\n",
      "Reduced Cost for c_3 = [-1.]\n",
      "[0] [1.]\n",
      "Reduced Cost for c_4 = [-3.]\n",
      "[0] [3.]\n",
      "Enters Basis: x_3\n",
      "Direction:\n",
      "[-0.5 -0.5  0. ]\n"
     ]
    }
   ],
   "source": [
    "# Iteration 1\n",
    "bfs = [0,1,4]\n",
    "nbfs = [2,3]\n",
    "get_info(A, b, c, bfs, nbfs)"
   ]
  },
  {
   "cell_type": "code",
   "execution_count": 5,
   "metadata": {},
   "outputs": [
    {
     "name": "stdout",
     "output_type": "stream",
     "text": [
      "Basis Matrix: \n",
      "[[ 1  1  0]\n",
      " [ 1  0  0]\n",
      " [-1  0  1]]\n",
      "Inverse Basis Matrix:\n",
      "[[ 0.  1. -0.]\n",
      " [ 1. -1.  0.]\n",
      " [ 0.  1.  1.]]\n",
      "Basic Variables: ['x_2', 'x_3', 'x_5']\n",
      "[[2.]\n",
      " [2.]\n",
      " [4.]]\n",
      "Non-Basic Variables: ['x_1', 'x_4']\n",
      "[[0]\n",
      " [0]]\n",
      "Reduced Cost for c_1 = [2.]\n",
      "[-2] [-4.]\n",
      "Reduced Cost for c_4 = [-4.]\n",
      "[0] [4.]\n",
      "Enters Basis: x_4\n",
      "Direction:\n",
      "[-1.  1. -1.]\n"
     ]
    }
   ],
   "source": [
    "# Iteration 2\n",
    "bfs = [1,2,4]\n",
    "nbfs = [0,3]\n",
    "get_info(A, b, c, bfs, nbfs)"
   ]
  },
  {
   "cell_type": "code",
   "execution_count": 6,
   "metadata": {},
   "outputs": [
    {
     "name": "stdout",
     "output_type": "stream",
     "text": [
      "Basis Matrix: \n",
      "[[ 1  0  0]\n",
      " [ 1  1  0]\n",
      " [-1  0  1]]\n",
      "Inverse Basis Matrix:\n",
      "[[ 1. -0. -0.]\n",
      " [-1.  1. -0.]\n",
      " [ 1.  0.  1.]]\n",
      "Basic Variables: ['x_2', 'x_4', 'x_5']\n",
      "[[ 4.]\n",
      " [-2.]\n",
      " [ 6.]]\n",
      "Non-Basic Variables: ['x_1', 'x_3']\n",
      "[[0]\n",
      " [0]]\n",
      "Reduced Cost for c_1 = [-6.]\n",
      "[-2] [4.]\n",
      "Reduced Cost for c_3 = [-4.]\n",
      "[0] [4.]\n",
      "Enters Basis: x_1\n",
      "Direction:\n",
      "[-1.  2. -2.]\n"
     ]
    }
   ],
   "source": [
    "# Iteration 3\n",
    "bfs = [1,3,4]\n",
    "nbfs = [0,2]\n",
    "get_info(A, b, c, bfs, nbfs)"
   ]
  },
  {
   "cell_type": "code",
   "execution_count": 8,
   "metadata": {},
   "outputs": [
    {
     "name": "stdout",
     "output_type": "stream",
     "text": [
      "Basis Matrix: \n",
      "[[ 1  1  0]\n",
      " [-1  1  1]\n",
      " [ 1 -1  0]]\n",
      "Inverse Basis Matrix:\n",
      "[[ 0.5  0.   0.5]\n",
      " [ 0.5  0.  -0.5]\n",
      " [ 0.   1.   1. ]]\n",
      "Basic Variables: ['x_1', 'x_2', 'x_4']\n",
      "[[3.]\n",
      " [1.]\n",
      " [4.]]\n",
      "Non-Basic Variables: ['x_3', 'x_5']\n",
      "[[0]\n",
      " [0]]\n",
      "Reduced Cost for c_3 = [-1.]\n",
      "[0] [1.]\n",
      "Reduced Cost for c_5 = [3.]\n",
      "[0] [-3.]\n",
      "Enters Basis: x_3\n",
      "Direction:\n",
      "[-0.5 -0.5  0. ]\n"
     ]
    }
   ],
   "source": [
    "# Iteration 3\n",
    "bfs = [0,1,3]\n",
    "nbfs = [2,4]\n",
    "get_info(A, b, c, bfs, nbfs)"
   ]
  },
  {
   "cell_type": "code",
   "execution_count": null,
   "metadata": {},
   "outputs": [],
   "source": []
  }
 ],
 "metadata": {
  "kernelspec": {
   "display_name": "Python 3 (ipykernel)",
   "language": "python",
   "name": "python3"
  },
  "language_info": {
   "codemirror_mode": {
    "name": "ipython",
    "version": 3
   },
   "file_extension": ".py",
   "mimetype": "text/x-python",
   "name": "python",
   "nbconvert_exporter": "python",
   "pygments_lexer": "ipython3",
   "version": "3.8.11"
  }
 },
 "nbformat": 4,
 "nbformat_minor": 4
}
