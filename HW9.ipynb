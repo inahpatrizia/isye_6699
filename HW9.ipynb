{
 "cells": [
  {
   "cell_type": "markdown",
   "metadata": {},
   "source": [
    "# Homework 9"
   ]
  },
  {
   "cell_type": "code",
   "execution_count": 1,
   "metadata": {},
   "outputs": [],
   "source": [
    "import numpy as np\n",
    "import matplotlib as mpl\n",
    "import matplotlib.pyplot as plt"
   ]
  },
  {
   "cell_type": "markdown",
   "metadata": {},
   "source": [
    "## Question 1\n",
    "### Part A\n",
    "\n",
    "$ max \\; x+y+z \\\\\n",
    "s.t. 10x-y+5z \\le 2\\; \\\\\n",
    " \\; \\; \\; \\; \\; \\;2y-3z = 3 \\\\\n",
    " \\; \\; \\; \\; \\; \\;x+y-2x \\ge -4 \\\\\n",
    " \\; \\; \\; \\; \\; \\;x \\ge 0, \\; y \\le 0,\\; z \\;free$"
   ]
  },
  {
   "cell_type": "markdown",
   "metadata": {},
   "source": [
    "**Solution**\n",
    "$ min \\;\\; 2y_1+3y_2-4y_3 \\\\\n",
    "s.t. \\; 10y_1 + y_3 \\ge 1\\; \\\\\n",
    " \\; \\; \\; \\; \\; \\;\\;-y_1+2y_2+y_3 \\le 1 \\\\\n",
    " \\; \\; \\; \\; \\; \\;\\;5y_1-3y_2-2y_3 = 1 \\\\\n",
    "  \\; \\; \\; \\; \\; \\;\\; y_1 \\ge 0, y_2\\;free, y_3 \\le 0$"
   ]
  },
  {
   "cell_type": "markdown",
   "metadata": {},
   "source": [
    "### Part B\n",
    "\n",
    "$ min \\; c^Tx \\\\\n",
    "s.t. Ax \\le b\\; \\\\\n",
    " \\; \\; \\; \\; \\; \\;x \\ge 0$"
   ]
  },
  {
   "cell_type": "markdown",
   "metadata": {},
   "source": [
    "**Solution**\n",
    "$ max \\; b^Ty \\\\\n",
    "s.t.  \\; \\; y^TA \\ge c^T\\; \\\\\n",
    " \\;\\; \\; \\; \\; \\; \\;y \\ge 0$"
   ]
  },
  {
   "cell_type": "markdown",
   "metadata": {},
   "source": [
    "# Question 2\n",
    "$ max \\;\\; 4x_1+x_2+3x_3+10x_4 \\\\\n",
    "s.t. \\; 2x_1+x_2+3x_3+4x_4 \\le 500 \\\\\n",
    " \\; \\; \\; \\; \\; \\;\\;3x_1+2x_2+x_3+6x_4 \\le 400 \\\\\n",
    "  \\; \\; \\; \\; \\; \\;\\; x_1,x_2,x_3,x_4 \\ge 0$"
   ]
  },
  {
   "cell_type": "markdown",
   "metadata": {},
   "source": [
    "### Part A\n",
    "$ min \\;\\; 500y_1 + 400y_2 \\\\\n",
    "s.t. \\;             2y_1 + 3y_2 \\le 4 \\\\\n",
    "\\; \\; \\; \\; \\; \\;\\; y_1 + 2y_2 \\le 1 \\\\\n",
    "\\; \\; \\; \\; \\; \\;\\; 3y_1 + y_2 \\le 3 \\\\\n",
    "\\; \\; \\; \\; \\; \\;\\; 4y_1 + 6y_2 \\le 10 \\\\  \n",
    "\\; \\; \\; \\; \\; \\;\\; y_1, y_2 \\ge 0$"
   ]
  },
  {
   "cell_type": "markdown",
   "metadata": {},
   "source": [
    "### Part B\n",
    "Note: the optimal solution for part C is included in this graph."
   ]
  },
  {
   "cell_type": "code",
   "execution_count": 2,
   "metadata": {},
   "outputs": [
    {
     "data": {
      "text/plain": [
       "Text(0, 0.5, '$y_2$')"
      ]
     },
     "execution_count": 2,
     "metadata": {},
     "output_type": "execute_result"
    },
    {
     "data": {
      "image/png": "[encoded data removed]",
      "text/plain": [
       "<Figure size 432x288 with 1 Axes>"
      ]
     },
     "metadata": {
      "needs_background": "light"
     },
     "output_type": "display_data"
    }
   ],
   "source": [
    "#  plot the feasible region\n",
    "d = np.linspace(0,10,1000)\n",
    "x,y = np.meshgrid(d,d)\n",
    "plt.imshow( ((2*x+3*y >= 4) & (x+2*y >= 1) & (3*x+y >= 3) & (4*x+6*y >= 10) & (x >= 0) & (y >= 0)).astype(int) , \n",
    "                extent=(x.min(),x.max(),y.min(),y.max()),\n",
    "                origin=\"lower\", cmap=\"Greys\", alpha = 0.3);\n",
    "\n",
    "\n",
    "# plot the lines defining the constraints\n",
    "x = np.linspace(-1, 1000, 5000)\n",
    "y1 = (4-2*x)/3\n",
    "y2 = (1-x)/2\n",
    "y3 = 3-3*x\n",
    "y4 = (10-4*x)/6\n",
    "\n",
    "# Make plot\n",
    "plt.plot(x, y1, label = r'$2y_1+3y_2\\geq4$')\n",
    "plt.plot(x, y2, label=r'$y_1+2y_2\\geq 1$')\n",
    "plt.plot(x, y3, label=r'$3y_1+y_2\\geq 3$')\n",
    "plt.plot(x, y4, label=r'$4y_1+6y_2\\geq 10$')\n",
    "\n",
    "plt.plot(4/7, 9/7,'ro')\n",
    "plt.plot(0, 3,'bo')\n",
    "plt.plot(5/2, 0,'bo')\n",
    "\n",
    "\n",
    "plt.axvline(x=0, c=\"black\")\n",
    "plt.axhline(y=0, c=\"black\")\n",
    "\n",
    "plt.xlim(-0.5,5)\n",
    "plt.ylim(-0.5,5)\n",
    "plt.legend(bbox_to_anchor=(1.05, 1), loc=2, borderaxespad=0.)\n",
    "plt.xlabel(r'$y_1$')\n",
    "plt.ylabel(r'$y_2$')"
   ]
  },
  {
   "cell_type": "markdown",
   "metadata": {},
   "source": [
    "### Part C\n",
    "Based on the graph above, possible feasible solutions that minimize the objective function are $(0,3),\\;(\\frac{4}{7},\\frac{9}{7})\\; and \\;(\\frac{5}{2},0)$. \n",
    "\n",
    "Note: $(\\frac{4}{7},\\frac{9}{7})$ was found by solving for the point of intersection of $3y_1+y_2\\geq 3$ and $4y_1+6y_2\\geq 10$."
   ]
  },
  {
   "cell_type": "markdown",
   "metadata": {},
   "source": [
    "### Part D \n",
    "Objective function value at these points:  \n",
    "$500(0)+400(3) = 1200$  \n",
    "$500(\\frac{4}{7})+400(\\frac{9}{7}) = 800$  \n",
    "$500(\\frac{5}{2})+400(0) = 1250$  \n",
    "  \n",
    "Since we want to minimize, optimal solution of the dual problem is $(\\frac{4}{7}, \\frac{9}{7})$.  \n",
    "The value of the dual problem is 800. I was able to get $140K or 33% more wealth than Long John."
   ]
  },
  {
   "cell_type": "markdown",
   "metadata": {},
   "source": [
    "### Part E\n",
    "Primal Complementary Slackness: $y_i(a_i^Tx - b_i) = 0$.  \n",
    "Either $a_i^Tx - b_i = 0$ or $y_i=0$.  \n",
    "Both $y_1$ and $y_2$ are nonzero which means $a_1^Tx - b_1 = 0$ and $a_2^Tx - b_2 = 0$.   \n",
    "$\\Longrightarrow$ Both primal constraints must be active at the optimum."
   ]
  },
  {
   "cell_type": "markdown",
   "metadata": {},
   "source": [
    "### Part F\n",
    "Dual Complementary Slackness: $x_j(c_j - y^TA_j) = 0$.  \n",
    "Either $c_j - y^TA_j = 0$ or $x_j = 0$.  \n",
    "\n",
    "At the dual optimum $(\\frac{4}{7},\\frac{9}{7})$:\n",
    "$ 4 - (2(\\frac{4}{7}) + 3(\\frac{9}{7})) =  -1\\\\\n",
    "1 - (\\frac{4}{7} + 2(\\frac{9}{7})) = -\\frac{15}{7} \\\\\n",
    "3 - (3(\\frac{4}{7}) + \\frac{9}{7}) = 0 \\\\\n",
    "10 - (4(\\frac{4}{7}) + 6(\\frac{9}{7})) = 0 \\\\  $\n",
    "\n",
    "$c_1 - y^TA_1 \\neq 0$ and $c_2 - y^TA_2\\neq 0$\n",
    "\n",
    "$\\Longrightarrow x_1 = x_2 = 0$."
   ]
  },
  {
   "cell_type": "markdown",
   "metadata": {},
   "source": [
    "### Part G\n",
    "Knowing that $x_1 = x_2 = 0$, the primal problem becomes:\n",
    "$ max \\;\\; 3x_3+10x_4 \\\\\n",
    "s.t. \\; 3x_3+4x_4 \\le 500 \\\\\n",
    " \\; \\; \\; \\; \\; \\;\\;x_3+6x_4 \\le 400 \\\\\n",
    "  \\; \\; \\; \\; \\; \\;\\; x_3,x_4 \\ge 0$\n",
    "\n",
    "Possible feasible solutions: $(0,\\frac{200}{3}), (100, 50), (\\frac{500}{3},0)  \\\\\n",
    "3(0)+10(\\frac{200}{3}) = \\frac{2000}{3} \\approx 666.67\\\\\n",
    "3(100)+ 10(50) = 800\\\\\n",
    "3(\\frac{500}{3})+ 10(0) = 500 \n",
    "$\n",
    "\n",
    "**The optimal primal solution is (0,0,100,50) and the objective function value at the optimum is $800K.**"
   ]
  },
  {
   "cell_type": "code",
   "execution_count": 3,
   "metadata": {},
   "outputs": [
    {
     "data": {
      "text/plain": [
       "Text(0, 0.5, '$x_4$')"
      ]
     },
     "execution_count": 3,
     "metadata": {},
     "output_type": "execute_result"
    },
    {
     "data": {
      "image/png": "[encoded data removed]",
      "text/plain": [
       "<Figure size 432x288 with 1 Axes>"
      ]
     },
     "metadata": {
      "needs_background": "light"
     },
     "output_type": "display_data"
    }
   ],
   "source": [
    "#  plot the feasible region\n",
    "d = np.linspace(0,600,600)\n",
    "x,y = np.meshgrid(d,d)\n",
    "plt.imshow( ((3*x+4*y <= 500) & (x+6*y <=400) & (x >= 0) & (y >= 0)).astype(int) , \n",
    "                extent=(x.min(),x.max(),y.min(),y.max()),\n",
    "                origin=\"lower\", cmap=\"Greys\", alpha = 0.3);\n",
    "\n",
    "\n",
    "# plot the lines defining the constraints\n",
    "x = np.linspace(0, 600, 2000)\n",
    "y1 = (500-3*x)/4 \n",
    "y2 = (400-x)/6\n",
    "\n",
    "# Make plot\n",
    "plt.plot(x, y1, label = r'$3x_3+4x_4\\leq500$')\n",
    "plt.plot(x, y2, label=r'$x_3+6x_4\\leq 400$')\n",
    "plt.plot(100,50,'ro')\n",
    "plt.plot(0,200/3,'bo')\n",
    "plt.plot(500/3,0,'bo')\n",
    "\n",
    "plt.axvline(x=0, c=\"black\")\n",
    "plt.axhline(y=0, c=\"black\")\n",
    "\n",
    "\n",
    "plt.xlim(-5,200)\n",
    "plt.ylim(-5,150)\n",
    "plt.legend(bbox_to_anchor=(1.05, 1), loc=2, borderaxespad=0.)\n",
    "plt.xlabel(r'$x_3$')\n",
    "plt.ylabel(r'$x_4$')"
   ]
  },
  {
   "cell_type": "markdown",
   "metadata": {},
   "source": [
    "## Question 3\n",
    "$ a_1x_1 + a_2x_2 \\ge 1  \\;\\; \\forall a \\in U  \\\\\n",
    "U = \\{ a \\in R^2: \\lvert a_1-1 \\rvert + \\lvert a_2 - 2 \\rvert \\le 1 \\} $"
   ]
  },
  {
   "cell_type": "markdown",
   "metadata": {},
   "source": [
    "### Part A\n",
    "Uncertainty set can be broken out into 4 constraints:  \n",
    "1. $a_1\\ge 1, a_2\\ge2 \\rightarrow (a_1-1) + (a_2-2) = a_1+a_2-3 \\le 1$\n",
    "2. $a_1\\ge 1, a_2\\le2 \\rightarrow (a_1-1) - (a_2-2) = a_1-a_2+1 \\le 1$\n",
    "3. $a_1\\le 1, a_2\\ge2 \\rightarrow -(a_1-1) + (a_2-2) = a_2-a_1-1 \\le 1$\n",
    "4. $a_1\\le 1, a_2\\le2 \\rightarrow -(a_1-1) - (a_2-2) = 3-a_1-a_2 \\le 1$"
   ]
  },
  {
   "cell_type": "code",
   "execution_count": 4,
   "metadata": {},
   "outputs": [
    {
     "data": {
      "text/plain": [
       "Text(0, 0.5, '$a_2$')"
      ]
     },
     "execution_count": 4,
     "metadata": {},
     "output_type": "execute_result"
    },
    {
     "data": {
      "image/png": "[encoded data removed]",
      "text/plain": [
       "<Figure size 432x288 with 1 Axes>"
      ]
     },
     "metadata": {
      "needs_background": "light"
     },
     "output_type": "display_data"
    }
   ],
   "source": [
    "#  plot the feasible region\n",
    "d = np.linspace(0,10,1000)\n",
    "x,y = np.meshgrid(d,d)\n",
    "plt.imshow( ((x+y-3 <= 1) & (x-y+1 <=1) & (y-x-1<=1) & (3-x-y<=1)).astype(int) , \n",
    "                extent=(x.min(),x.max(),y.min(),y.max()),\n",
    "                origin=\"lower\", cmap=\"Greys\", alpha = 0.3);\n",
    "\n",
    "\n",
    "# plot the lines defining the constraints\n",
    "x = np.linspace(0, 600, 2000)\n",
    "y1 = 4-x\n",
    "y2 = x\n",
    "y3 = 2+x\n",
    "y4 = 2-x\n",
    "\n",
    "# Make plot\n",
    "plt.plot(x, y1, label = r'$a_1+a_2-3 \\leq 1$')\n",
    "plt.plot(x, y2, label=r'$a_1-a_2+1 \\leq 1$')\n",
    "plt.plot(x, y3, label=r'$a_2-a_1-1 \\leq 1$')\n",
    "plt.plot(x, y4, label=r'$3-a_1-a_2 \\leq 1$')\n",
    "\n",
    "plt.axvline(x=0, c=\"black\")\n",
    "plt.axhline(y=0, c=\"black\")\n",
    "\n",
    "\n",
    "plt.xlim(-0.5,5)\n",
    "plt.ylim(-0.5,5)\n",
    "plt.legend(bbox_to_anchor=(1.05, 1), loc=2, borderaxespad=0.)\n",
    "plt.xlabel(r'$a_1$')\n",
    "plt.ylabel(r'$a_2$')"
   ]
  },
  {
   "cell_type": "markdown",
   "metadata": {},
   "source": [
    "### Part B\n",
    "$(x_1, x_2) = (-1,1)$  \n",
    "\n",
    "Linear constraint becomes:  \n",
    "$ -a_1 + a_2 \\ge 1  \\;\\; \\forall a \\in U  $  \n",
    "\n",
    "Plotting this line against the uncertainty set U (grey line in graph below), we see that the line passes through U and thus satisfies the robust linear contraint."
   ]
  },
  {
   "cell_type": "code",
   "execution_count": 5,
   "metadata": {},
   "outputs": [
    {
     "data": {
      "text/plain": [
       "Text(0, 0.5, '$a_2$')"
      ]
     },
     "execution_count": 5,
     "metadata": {},
     "output_type": "execute_result"
    },
    {
     "data": {
      "image/png": "[encoded data removed]",
      "text/plain": [
       "<Figure size 432x288 with 1 Axes>"
      ]
     },
     "metadata": {
      "needs_background": "light"
     },
     "output_type": "display_data"
    }
   ],
   "source": [
    "#  plot the feasible region\n",
    "d = np.linspace(0,10,1000)\n",
    "x,y = np.meshgrid(d,d)\n",
    "plt.imshow( ((x+y-3 <= 1) & (x-y+1 <=1) & (y-x-1<=1) & (3-x-y<=1)).astype(int) , \n",
    "                extent=(x.min(),x.max(),y.min(),y.max()),\n",
    "                origin=\"lower\", cmap=\"Greys\", alpha = 0.3);\n",
    "\n",
    "\n",
    "# plot the lines defining the constraints\n",
    "x = np.linspace(0, 600, 2000)\n",
    "y1 = 4-x\n",
    "y2 = x\n",
    "y3 = 2+x\n",
    "y4 = 2-x\n",
    "y5 = 1+x\n",
    "\n",
    "\n",
    "# Make plot\n",
    "plt.plot(x, y1, label = r'$a_1+a_2-3 \\leq 1$')\n",
    "plt.plot(x, y2, label=r'$a_1-a_2+1 \\leq 1$')\n",
    "plt.plot(x, y3, label=r'$a_2-a_1-1 \\leq 1$')\n",
    "plt.plot(x, y4, label=r'$3-a_1-a_2 \\leq 1$')\n",
    "plt.plot(x, y5, label=r'$-a_1 + a_2 \\geq 1$', color = 'grey')\n",
    "\n",
    "plt.axvline(x=0, c=\"black\")\n",
    "plt.axhline(y=0, c=\"black\")\n",
    "\n",
    "\n",
    "plt.xlim(-0.5,5)\n",
    "plt.ylim(-0.5,5)\n",
    "plt.legend(bbox_to_anchor=(1.05, 1), loc=2, borderaxespad=0.)\n",
    "plt.xlabel(r'$a_1$')\n",
    "plt.ylabel(r'$a_2$')"
   ]
  },
  {
   "cell_type": "markdown",
   "metadata": {},
   "source": [
    "### Part C\n",
    "Note: I follow the derivation from Piazza Post #653 and W9M18L3 Knowledge Check.\n",
    "\n",
    "**TL;DR**  \n",
    "The robust constraints can be written as:  \n",
    "$-(\\sum_{i=1}^2 ix_i - 1) \\le x_i \\le  \\sum_{i=1}^2 ix_i - 1 \\;\\; \\forall i $  \n",
    "\n",
    "or  \n",
    "\n",
    "$-(x_1+2x_2 -1) \\le x_1 \\le x_1+2x_2 -1$  \n",
    "$-(x_1+2x_2 -1) \\le x_2 \\le x_1+2x_2 -1$ \n",
    "\n",
    "**Derivation**  \n",
    "$min \\;\\; a_1x_1 + a_2x_2 \\ge 1$  \n",
    "$s.t \\;\\; w_1 + w_2 \\le 0 \\Longrightarrow let\\;dual\\;variable = s$  \n",
    "$\\;\\;\\;\\;-w_1 -a_1+1 \\le 0\\Longrightarrow y_1$  \n",
    "$ \\;\\;\\;\\;-w_1 + a_1-1 \\le 0\\Longrightarrow z_1$  \n",
    "$ \\;\\;\\;\\;-w_2 -a_2+1 \\le 0\\Longrightarrow y_2$   \n",
    "$ \\;\\;\\;\\;-w_2 +a_2-2 \\le 0 \\Longrightarrow z_2$  \n",
    "\n",
    "Lagrangian function becomes:  \n",
    "$a_1(x_1-y_1+z_1) + a_2(x_2-y_2+z_2) + w_1(s-y_1-z_1) + w_2(s-y_2-z_2) -s +y_1+2y_2-z_1-2z_2 \\\\\n",
    "s, y_1, y_2, z_1, z_2 \\ge 0 $\n",
    "\n",
    "Since $a_1, a_2$ and $w_1,w_2$ are free:  \n",
    "$x_i-y_i+z_i = 0\\\\\n",
    "s-y_i-z_i=0$\n",
    "\n",
    "The formulation of the dual is:\n",
    "$max\\; -s +y_1+2y_2-z_1-2z_2 \\ge 1\\\\\n",
    "s.t. \\;\\; x_i-y_i+z_i = 0 \\; for \\; i=1,2\\\\\n",
    "\\;\\;\\;\\;\\;\\;\\;s-y_i-z_i=0 \\; for \\; i=1,2\\\\\n",
    "\\;\\;\\;\\;\\;\\;\\;s, y_1, y_2, z_1, z_2 \\ge 0 $  \n",
    "\n",
    "From the first constraint, $x_i = y_i-z_i$\n",
    "\n",
    "Dual becomes:\n",
    "$max\\; -s + 1(y_1-z_1) + 2(y_2-z_2) = -s + \\sum_{i=1}^2 ix_i \\ge 1\\\\\n",
    "s.t. \\;\\; x_i = y_i-z_i  \\; for \\; i=1,2\\\\\n",
    "\\;\\;\\;\\;\\;\\;\\;s = y_i+z_i \\; for \\; i=1,2\\\\\n",
    "\\;\\;\\;\\;\\;\\;\\;s, y_1, y_2, z_1, z_2 \\ge 0 $  \n",
    "\n",
    "Since $x_i$ values are fixed and max -s = -min s, we can write:\n",
    "$\\sum_{i=1}^2 ix_i \\;- \\;min \\; s   \\;\\; \\ge 1\\\\\n",
    "\\;\\;\\;\\;\\;\\;\\;\\;\\;\\;\\;\\;\\;\\;\\;\\;\\;s.t. \\; x_i = y_i-z_i  \\; for \\; i=1,2\\\\\n",
    "\\;\\;\\;\\;\\;\\;\\;\\;\\;\\;\\;\\;\\;\\;\\;\\;\\;\\;\\;\\;\\;\\;\\;s = y_i+z_i \\; for \\; i=1,2\\\\\n",
    "\\;\\;\\;\\;\\;\\;\\;\\;\\;\\;\\;\\;\\;\\;\\;\\;\\;\\;\\;\\;\\;\\;\\;s, y_1, y_2, z_1, z_2 \\ge 0 $\n",
    "\n",
    "$\\sum_{i=1}^2 ix_i \\;- max\\{|x_i|,  for \\; i=1,2 \\}  \\;\\; \\ge 1$  \n",
    "  \n",
    "$max\\{|x_i|,  for \\; i=1,2 \\} \\le \\sum_{i=1}^2 ix_i - 1 $\n",
    "\n",
    "$\\lvert x_i \\rvert\\; \\forall i \\le \\sum_{i=1}^2 ix_i - 1 $\n",
    "\n",
    "$-(\\sum_{i=1}^2 ix_i - 1) \\le x_i \\le  \\sum_{i=1}^2 ix_i - 1$"
   ]
  },
  {
   "cell_type": "markdown",
   "metadata": {},
   "source": [
    "### Part D\n",
    "$-(\\sum_{i=1}^2 ix_i - 1) \\le x_i \\le  \\sum_{i=1}^2 ix_i - 1 \\;\\; \\forall i $  \n",
    "\n",
    "Becomes:  \n",
    "$-(x_1+2x_2 -1) \\le x_1 \\le x_1+2x_2 -1$  \n",
    "$-(x_1+2x_2 -1) \\le x_2 \\le x_1+2x_2 -1$  \n",
    "\n",
    "Simplifies to:  \n",
    "$-x_1-2x_2+1 \\le x_1 \\Longrightarrow x_2 \\ge \\frac{1}{2} - x_1\\\\\n",
    "x_1 \\le x_1+2x_2 -1 \\Longrightarrow x_2 \\ge \\frac{1}{2}\\\\\n",
    "-(x_1+2x_2 -1) \\le x_2 \\Longrightarrow x_2 \\ge \\frac{1}{3} - \\frac{1}{3}x_1\\\\\n",
    "x_2 \\le x_1+2x_2 -1\\Longrightarrow x_2 \\ge 1-x_1$"
   ]
  },
  {
   "cell_type": "code",
   "execution_count": 6,
   "metadata": {},
   "outputs": [
    {
     "data": {
      "text/plain": [
       "Text(0, 0.5, '$x_2$')"
      ]
     },
     "execution_count": 6,
     "metadata": {},
     "output_type": "execute_result"
    },
    {
     "data": {
      "image/png": "[encoded data removed]",
      "text/plain": [
       "<Figure size 432x288 with 1 Axes>"
      ]
     },
     "metadata": {
      "needs_background": "light"
     },
     "output_type": "display_data"
    }
   ],
   "source": [
    "#  plot the feasible region\n",
    "d = np.linspace(0,10,1000)\n",
    "x,y = np.meshgrid(d,d)\n",
    "plt.imshow( ((y >= 1/2-x) & (y >= 1/2) & (y>=1/3 - (1/3)*x) & (y>=1-x)).astype(int) , \n",
    "                extent=(x.min(),x.max(),y.min(),y.max()),\n",
    "                origin=\"lower\", cmap=\"Greys\", alpha = 0.3);\n",
    "\n",
    "\n",
    "# plot the lines defining the constraints\n",
    "x = np.linspace(0, 600, 2000)\n",
    "y1 = 1/2-x\n",
    "y2 = 1/2\n",
    "y3 = 1/3 - (1/3)*x\n",
    "y4 = 1-x\n",
    "\n",
    "# Make plot\n",
    "plt.plot(x, y1, label = r'$x_2 \\geq \\frac{1}{2} - x_1$')\n",
    "plt.axhline(y2, label = r'$x_2 \\geq \\frac{1}{2}$',  color = 'red')\n",
    "plt.plot(x, y3, label=r'$x_2 \\geq \\frac{1}{3} - \\frac{1}{3}x_1$')\n",
    "plt.plot(x, y4, label=r'$x_2 \\geq 1-x_1$')\n",
    "\n",
    "plt.axvline(x=0, c=\"black\")\n",
    "plt.axhline(y=0, c=\"black\")\n",
    "\n",
    "\n",
    "plt.xlim(-0.5,5)\n",
    "plt.ylim(-0.5,5)\n",
    "plt.legend(bbox_to_anchor=(1.05, 1), loc=2, borderaxespad=0.)\n",
    "plt.xlabel(r'$x_1$')\n",
    "plt.ylabel(r'$x_2$')"
   ]
  }
 ],
 "metadata": {
  "kernelspec": {
   "display_name": "Python 3",
   "language": "python",
   "name": "python3"
  },
  "language_info": {
   "codemirror_mode": {
    "name": "ipython",
    "version": 3
   },
   "file_extension": ".py",
   "mimetype": "text/x-python",
   "name": "python",
   "nbconvert_exporter": "python",
   "pygments_lexer": "ipython3",
   "version": "3.8.5"
  }
 },
 "nbformat": 4,
 "nbformat_minor": 5
}
